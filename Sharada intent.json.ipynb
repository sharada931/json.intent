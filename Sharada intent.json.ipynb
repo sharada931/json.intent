{
 "cells": [
  {
   "cell_type": "markdown",
   "id": "8f98070c",
   "metadata": {
    "papermill": {
     "duration": 0.013606,
     "end_time": "2023-03-14T12:09:11.039928",
     "exception": false,
     "start_time": "2023-03-14T12:09:11.026322",
     "status": "completed"
    },
    "tags": []
   },
   "source": [
    "## Importing Libraries\n",
    "---"
   ]
  },
  {
   "cell_type": "code",
   "execution_count": 1,
   "id": "0ee963e7",
   "metadata": {
    "_cell_guid": "b1076dfc-b9ad-4769-8c92-a6c4dae69d19",
    "_uuid": "8f2839f25d086af736a60e9eeb907d3b93b6e0e5",
    "execution": {
     "iopub.execute_input": "2023-03-14T12:09:11.067500Z",
     "iopub.status.busy": "2023-03-14T12:09:11.066672Z",
     "iopub.status.idle": "2023-03-14T12:09:11.078377Z",
     "shell.execute_reply": "2023-03-14T12:09:11.077331Z"
    },
    "papermill": {
     "duration": 0.027842,
     "end_time": "2023-03-14T12:09:11.080464",
     "exception": false,
     "start_time": "2023-03-14T12:09:11.052622",
     "status": "completed"
    },
    "tags": []
   },
   "outputs": [],
   "source": [
    "import numpy as np\n",
    "import pandas as pd\n",
    "import json\n",
    "pd.set_option(\"display.max_colwidth\", None)"
   ]
  },
  {
   "cell_type": "code",
   "execution_count": 2,
   "id": "833d2118",
   "metadata": {
    "execution": {
     "iopub.execute_input": "2023-03-14T12:09:11.106517Z",
     "iopub.status.busy": "2023-03-14T12:09:11.105579Z",
     "iopub.status.idle": "2023-03-14T12:09:11.122624Z",
     "shell.execute_reply": "2023-03-14T12:09:11.121752Z"
    },
    "papermill": {
     "duration": 0.032314,
     "end_time": "2023-03-14T12:09:11.124889",
     "exception": false,
     "start_time": "2023-03-14T12:09:11.092575",
     "status": "completed"
    },
    "tags": []
   },
   "outputs": [],
   "source": [
    "with open('/kaggle/input/chatbots-intent-recognition-dataset/Intent.json') as f:\n",
    "    data = json.load(f)"
   ]
  },
  {
   "cell_type": "code",
   "execution_count": 3,
   "id": "3cf46bb6",
   "metadata": {
    "execution": {
     "iopub.execute_input": "2023-03-14T12:09:11.150571Z",
     "iopub.status.busy": "2023-03-14T12:09:11.150296Z",
     "iopub.status.idle": "2023-03-14T12:09:11.192558Z",
     "shell.execute_reply": "2023-03-14T12:09:11.191286Z"
    },
    "papermill": {
     "duration": 0.060446,
     "end_time": "2023-03-14T12:09:11.197073",
     "exception": false,
     "start_time": "2023-03-14T12:09:11.136627",
     "status": "completed"
    },
    "tags": []
   },
   "outputs": [
    {
     "data": {
      "text/html": [
       "<div>\n",
       "<style scoped>\n",
       "    .dataframe tbody tr th:only-of-type {\n",
       "        vertical-align: middle;\n",
       "    }\n",
       "\n",
       "    .dataframe tbody tr th {\n",
       "        vertical-align: top;\n",
       "    }\n",
       "\n",
       "    .dataframe thead th {\n",
       "        text-align: right;\n",
       "    }\n",
       "</style>\n",
       "<table border=\"1\" class=\"dataframe\">\n",
       "  <thead>\n",
       "    <tr style=\"text-align: right;\">\n",
       "      <th></th>\n",
       "      <th>intent</th>\n",
       "      <th>text</th>\n",
       "      <th>responses</th>\n",
       "      <th>extension</th>\n",
       "      <th>context</th>\n",
       "      <th>entityType</th>\n",
       "      <th>entities</th>\n",
       "    </tr>\n",
       "  </thead>\n",
       "  <tbody>\n",
       "    <tr>\n",
       "      <th>0</th>\n",
       "      <td>Greeting</td>\n",
       "      <td>[Hi, Hi there, Hola, Hello, Hello there, Hya, Hya there]</td>\n",
       "      <td>[Hi human, please tell me your GeniSys user, Hello human, please tell me your GeniSys user, Hola human, please tell me your GeniSys user]</td>\n",
       "      <td>{'function': '', 'entities': False, 'responses': []}</td>\n",
       "      <td>{'in': '', 'out': 'GreetingUserRequest', 'clear': False}</td>\n",
       "      <td>NA</td>\n",
       "      <td>[]</td>\n",
       "    </tr>\n",
       "    <tr>\n",
       "      <th>1</th>\n",
       "      <td>GreetingResponse</td>\n",
       "      <td>[My user is Adam, This is Adam, I am Adam, It is Adam, My user is Bella, This is Bella, I am Bella, It is Bella]</td>\n",
       "      <td>[Great! Hi &lt;HUMAN&gt;! How can I help?, Good! Hi &lt;HUMAN&gt;, how can I help you?, Cool! Hello &lt;HUMAN&gt;, what can I do for you?, OK! Hola &lt;HUMAN&gt;, how can I help you?, OK! hi &lt;HUMAN&gt;, what can I do for you?]</td>\n",
       "      <td>{'function': 'extensions.gHumans.updateHuman', 'entities': True, 'responses': ['Hi %%HUMAN%%! How can I help?', 'Hi %%HUMAN%%, how can I help you?', 'Hello %%HUMAN%%, what can I do for you?', 'Hola %%HUMAN%%, how can I help you?', 'OK hi %%HUMAN%%, what can I do for you?']}</td>\n",
       "      <td>{'in': 'GreetingUserRequest', 'out': '', 'clear': True}</td>\n",
       "      <td>NA</td>\n",
       "      <td>[{'entity': 'HUMAN', 'rangeFrom': 3, 'rangeTo': 4}, {'entity': 'HUMAN', 'rangeFrom': 2, 'rangeTo': 3}, {'entity': 'HUMAN', 'rangeFrom': 1, 'rangeTo': 2}, {'entity': 'HUMAN', 'rangeFrom': 2, 'rangeTo': 3}, {'entity': 'HUMAN', 'rangeFrom': 3, 'rangeTo': 4}, {'entity': 'HUMAN', 'rangeFrom': 2, 'rangeTo': 3}, {'entity': 'HUMAN', 'rangeFrom': 1, 'rangeTo': 2}, {'entity': 'HUMAN', 'rangeFrom': 2, 'rangeTo': 3}]</td>\n",
       "    </tr>\n",
       "    <tr>\n",
       "      <th>2</th>\n",
       "      <td>CourtesyGreeting</td>\n",
       "      <td>[How are you?, Hi how are you?, Hello how are you?, Hola how are you?, How are you doing?, Hope you are doing well?, Hello hope you are doing well?]</td>\n",
       "      <td>[Hello, I am great, how are you? Please tell me your GeniSys user, Hello, how are you? I am great thanks! Please tell me your GeniSys user, Hello, I am good thank you, how are you? Please tell me your GeniSys user, Hi, I am great, how are you? Please tell me your GeniSys user, Hi, how are you? I am great thanks! Please tell me your GeniSys user, Hi, I am good thank you, how are you? Please tell me your GeniSys user, Hi, good thank you, how are you? Please tell me your GeniSys user]</td>\n",
       "      <td>{'function': '', 'entities': False, 'responses': []}</td>\n",
       "      <td>{'in': '', 'out': 'CourtesyGreetingUserRequest', 'clear': True}</td>\n",
       "      <td>NA</td>\n",
       "      <td>[]</td>\n",
       "    </tr>\n",
       "    <tr>\n",
       "      <th>3</th>\n",
       "      <td>CourtesyGreetingResponse</td>\n",
       "      <td>[Good thanks! My user is Adam, Good thanks! This is Adam, Good thanks! I am Adam, Good thanks! It is Adam, Great thanks! My user is Bella, Great thanks! This is Bella, Great thanks! I am Bella, Great thanks! It is Bella]</td>\n",
       "      <td>[Great! Hi &lt;HUMAN&gt;! How can I help?, Good! Hi &lt;HUMAN&gt;, how can I help you?, Cool! Hello &lt;HUMAN&gt;, what can I do for you?, OK! Hola &lt;HUMAN&gt;, how can I help you?, OK! hi &lt;HUMAN&gt;, what can I do for you?]</td>\n",
       "      <td>{'function': 'extensions.gHumans.updateHuman', 'entities': True, 'responses': ['Great %%HUMAN%%! How can I help?', 'Good %%HUMAN%%, how can I help you?', 'Cool %%HUMAN%%, what can I do for you?', 'OK %%HUMAN%%, how can I help you?', 'OK hi %%HUMAN%%, what can I do for you?']}</td>\n",
       "      <td>{'in': 'GreetingUserRequest', 'out': '', 'clear': True}</td>\n",
       "      <td>NA</td>\n",
       "      <td>[{'entity': 'HUMAN', 'rangeFrom': 5, 'rangeTo': 6}, {'entity': 'HUMAN', 'rangeFrom': 4, 'rangeTo': 5}, {'entity': 'HUMAN', 'rangeFrom': 3, 'rangeTo': 4}, {'entity': 'HUMAN', 'rangeFrom': 4, 'rangeTo': 5}, {'entity': 'HUMAN', 'rangeFrom': 5, 'rangeTo': 6}, {'entity': 'HUMAN', 'rangeFrom': 4, 'rangeTo': 5}, {'entity': 'HUMAN', 'rangeFrom': 3, 'rangeTo': 4}, {'entity': 'HUMAN', 'rangeFrom': 3, 'rangeTo': 4}]</td>\n",
       "    </tr>\n",
       "    <tr>\n",
       "      <th>4</th>\n",
       "      <td>CurrentHumanQuery</td>\n",
       "      <td>[What is my name?, What do you call me?, Who do you think I am?, What do you think I am?, Who are you talking to?, What name do you call me by?, Tell me my name]</td>\n",
       "      <td>[You are &lt;HUMAN&gt;! How can I help?, Your name is  &lt;HUMAN&gt;, how can I help you?, They call you &lt;HUMAN&gt;, what can I do for you?, Your name is &lt;HUMAN&gt;, how can I help you?, &lt;HUMAN&gt;, what can I do for you?]</td>\n",
       "      <td>{'function': 'extensions.gHumans.getCurrentHuman', 'entities': False, 'responses': ['You are %%HUMAN%%! How can I help?', 'Your name is  %%HUMAN%%, how can I help you?', 'They call you %%HUMAN%%, what can I do for you?', 'Your name is %%HUMAN%%, how can I help you?', '%%HUMAN%%, what can I do for you?']}</td>\n",
       "      <td>{'in': '', 'out': 'CurrentHumanQuery', 'clear': False}</td>\n",
       "      <td>NA</td>\n",
       "      <td>[]</td>\n",
       "    </tr>\n",
       "  </tbody>\n",
       "</table>\n",
       "</div>"
      ],
      "text/plain": [
       "                     intent  \\\n",
       "0                  Greeting   \n",
       "1          GreetingResponse   \n",
       "2          CourtesyGreeting   \n",
       "3  CourtesyGreetingResponse   \n",
       "4         CurrentHumanQuery   \n",
       "\n",
       "                                                                                                                                                                                                                           text  \\\n",
       "0                                                                                                                                                                      [Hi, Hi there, Hola, Hello, Hello there, Hya, Hya there]   \n",
       "1                                                                                                              [My user is Adam, This is Adam, I am Adam, It is Adam, My user is Bella, This is Bella, I am Bella, It is Bella]   \n",
       "2                                                                          [How are you?, Hi how are you?, Hello how are you?, Hola how are you?, How are you doing?, Hope you are doing well?, Hello hope you are doing well?]   \n",
       "3  [Good thanks! My user is Adam, Good thanks! This is Adam, Good thanks! I am Adam, Good thanks! It is Adam, Great thanks! My user is Bella, Great thanks! This is Bella, Great thanks! I am Bella, Great thanks! It is Bella]   \n",
       "4                                                             [What is my name?, What do you call me?, Who do you think I am?, What do you think I am?, Who are you talking to?, What name do you call me by?, Tell me my name]   \n",
       "\n",
       "                                                                                                                                                                                                                                                                                                                                                                                                                                                                                                responses  \\\n",
       "0                                                                                                                                                                                                                                                                                                                                                               [Hi human, please tell me your GeniSys user, Hello human, please tell me your GeniSys user, Hola human, please tell me your GeniSys user]   \n",
       "1                                                                                                                                                                                                                                                                                                 [Great! Hi <HUMAN>! How can I help?, Good! Hi <HUMAN>, how can I help you?, Cool! Hello <HUMAN>, what can I do for you?, OK! Hola <HUMAN>, how can I help you?, OK! hi <HUMAN>, what can I do for you?]   \n",
       "2  [Hello, I am great, how are you? Please tell me your GeniSys user, Hello, how are you? I am great thanks! Please tell me your GeniSys user, Hello, I am good thank you, how are you? Please tell me your GeniSys user, Hi, I am great, how are you? Please tell me your GeniSys user, Hi, how are you? I am great thanks! Please tell me your GeniSys user, Hi, I am good thank you, how are you? Please tell me your GeniSys user, Hi, good thank you, how are you? Please tell me your GeniSys user]   \n",
       "3                                                                                                                                                                                                                                                                                                 [Great! Hi <HUMAN>! How can I help?, Good! Hi <HUMAN>, how can I help you?, Cool! Hello <HUMAN>, what can I do for you?, OK! Hola <HUMAN>, how can I help you?, OK! hi <HUMAN>, what can I do for you?]   \n",
       "4                                                                                                                                                                                                                                                                                               [You are <HUMAN>! How can I help?, Your name is  <HUMAN>, how can I help you?, They call you <HUMAN>, what can I do for you?, Your name is <HUMAN>, how can I help you?, <HUMAN>, what can I do for you?]   \n",
       "\n",
       "                                                                                                                                                                                                                                                                                                           extension  \\\n",
       "0                                                                                                                                                                                                                                                               {'function': '', 'entities': False, 'responses': []}   \n",
       "1                                 {'function': 'extensions.gHumans.updateHuman', 'entities': True, 'responses': ['Hi %%HUMAN%%! How can I help?', 'Hi %%HUMAN%%, how can I help you?', 'Hello %%HUMAN%%, what can I do for you?', 'Hola %%HUMAN%%, how can I help you?', 'OK hi %%HUMAN%%, what can I do for you?']}   \n",
       "2                                                                                                                                                                                                                                                               {'function': '', 'entities': False, 'responses': []}   \n",
       "3                               {'function': 'extensions.gHumans.updateHuman', 'entities': True, 'responses': ['Great %%HUMAN%%! How can I help?', 'Good %%HUMAN%%, how can I help you?', 'Cool %%HUMAN%%, what can I do for you?', 'OK %%HUMAN%%, how can I help you?', 'OK hi %%HUMAN%%, what can I do for you?']}   \n",
       "4  {'function': 'extensions.gHumans.getCurrentHuman', 'entities': False, 'responses': ['You are %%HUMAN%%! How can I help?', 'Your name is  %%HUMAN%%, how can I help you?', 'They call you %%HUMAN%%, what can I do for you?', 'Your name is %%HUMAN%%, how can I help you?', '%%HUMAN%%, what can I do for you?']}   \n",
       "\n",
       "                                                           context entityType  \\\n",
       "0         {'in': '', 'out': 'GreetingUserRequest', 'clear': False}         NA   \n",
       "1          {'in': 'GreetingUserRequest', 'out': '', 'clear': True}         NA   \n",
       "2  {'in': '', 'out': 'CourtesyGreetingUserRequest', 'clear': True}         NA   \n",
       "3          {'in': 'GreetingUserRequest', 'out': '', 'clear': True}         NA   \n",
       "4           {'in': '', 'out': 'CurrentHumanQuery', 'clear': False}         NA   \n",
       "\n",
       "                                                                                                                                                                                                                                                                                                                                                                                                                   entities  \n",
       "0                                                                                                                                                                                                                                                                                                                                                                                                                        []  \n",
       "1  [{'entity': 'HUMAN', 'rangeFrom': 3, 'rangeTo': 4}, {'entity': 'HUMAN', 'rangeFrom': 2, 'rangeTo': 3}, {'entity': 'HUMAN', 'rangeFrom': 1, 'rangeTo': 2}, {'entity': 'HUMAN', 'rangeFrom': 2, 'rangeTo': 3}, {'entity': 'HUMAN', 'rangeFrom': 3, 'rangeTo': 4}, {'entity': 'HUMAN', 'rangeFrom': 2, 'rangeTo': 3}, {'entity': 'HUMAN', 'rangeFrom': 1, 'rangeTo': 2}, {'entity': 'HUMAN', 'rangeFrom': 2, 'rangeTo': 3}]  \n",
       "2                                                                                                                                                                                                                                                                                                                                                                                                                        []  \n",
       "3  [{'entity': 'HUMAN', 'rangeFrom': 5, 'rangeTo': 6}, {'entity': 'HUMAN', 'rangeFrom': 4, 'rangeTo': 5}, {'entity': 'HUMAN', 'rangeFrom': 3, 'rangeTo': 4}, {'entity': 'HUMAN', 'rangeFrom': 4, 'rangeTo': 5}, {'entity': 'HUMAN', 'rangeFrom': 5, 'rangeTo': 6}, {'entity': 'HUMAN', 'rangeFrom': 4, 'rangeTo': 5}, {'entity': 'HUMAN', 'rangeFrom': 3, 'rangeTo': 4}, {'entity': 'HUMAN', 'rangeFrom': 3, 'rangeTo': 4}]  \n",
       "4                                                                                                                                                                                                                                                                                                                                                                                                                        []  "
      ]
     },
     "execution_count": 3,
     "metadata": {},
     "output_type": "execute_result"
    }
   ],
   "source": [
    "df = pd.DataFrame(data['intents'])\n",
    "df.head()"
   ]
  },
  {
   "cell_type": "markdown",
   "id": "00c9d563",
   "metadata": {
    "papermill": {
     "duration": 0.011891,
     "end_time": "2023-03-14T12:09:11.222428",
     "exception": false,
     "start_time": "2023-03-14T12:09:11.210537",
     "status": "completed"
    },
    "tags": []
   },
   "source": [
    "## Data Preprocessing\n",
    "---"
   ]
  },
  {
   "cell_type": "code",
   "execution_count": 4,
   "id": "cd0ababe",
   "metadata": {
    "execution": {
     "iopub.execute_input": "2023-03-14T12:09:11.247894Z",
     "iopub.status.busy": "2023-03-14T12:09:11.247622Z",
     "iopub.status.idle": "2023-03-14T12:09:11.265827Z",
     "shell.execute_reply": "2023-03-14T12:09:11.264716Z"
    },
    "papermill": {
     "duration": 0.033849,
     "end_time": "2023-03-14T12:09:11.268332",
     "exception": false,
     "start_time": "2023-03-14T12:09:11.234483",
     "status": "completed"
    },
    "tags": []
   },
   "outputs": [
    {
     "data": {
      "text/html": [
       "<div>\n",
       "<style scoped>\n",
       "    .dataframe tbody tr th:only-of-type {\n",
       "        vertical-align: middle;\n",
       "    }\n",
       "\n",
       "    .dataframe tbody tr th {\n",
       "        vertical-align: top;\n",
       "    }\n",
       "\n",
       "    .dataframe thead th {\n",
       "        text-align: right;\n",
       "    }\n",
       "</style>\n",
       "<table border=\"1\" class=\"dataframe\">\n",
       "  <thead>\n",
       "    <tr style=\"text-align: right;\">\n",
       "      <th></th>\n",
       "      <th>text</th>\n",
       "      <th>intent</th>\n",
       "    </tr>\n",
       "  </thead>\n",
       "  <tbody>\n",
       "    <tr>\n",
       "      <th>0</th>\n",
       "      <td>[Hi, Hi there, Hola, Hello, Hello there, Hya, Hya there]</td>\n",
       "      <td>Greeting</td>\n",
       "    </tr>\n",
       "    <tr>\n",
       "      <th>1</th>\n",
       "      <td>[My user is Adam, This is Adam, I am Adam, It is Adam, My user is Bella, This is Bella, I am Bella, It is Bella]</td>\n",
       "      <td>GreetingResponse</td>\n",
       "    </tr>\n",
       "    <tr>\n",
       "      <th>2</th>\n",
       "      <td>[How are you?, Hi how are you?, Hello how are you?, Hola how are you?, How are you doing?, Hope you are doing well?, Hello hope you are doing well?]</td>\n",
       "      <td>CourtesyGreeting</td>\n",
       "    </tr>\n",
       "    <tr>\n",
       "      <th>3</th>\n",
       "      <td>[Good thanks! My user is Adam, Good thanks! This is Adam, Good thanks! I am Adam, Good thanks! It is Adam, Great thanks! My user is Bella, Great thanks! This is Bella, Great thanks! I am Bella, Great thanks! It is Bella]</td>\n",
       "      <td>CourtesyGreetingResponse</td>\n",
       "    </tr>\n",
       "    <tr>\n",
       "      <th>4</th>\n",
       "      <td>[What is my name?, What do you call me?, Who do you think I am?, What do you think I am?, Who are you talking to?, What name do you call me by?, Tell me my name]</td>\n",
       "      <td>CurrentHumanQuery</td>\n",
       "    </tr>\n",
       "  </tbody>\n",
       "</table>\n",
       "</div>"
      ],
      "text/plain": [
       "                                                                                                                                                                                                                           text  \\\n",
       "0                                                                                                                                                                      [Hi, Hi there, Hola, Hello, Hello there, Hya, Hya there]   \n",
       "1                                                                                                              [My user is Adam, This is Adam, I am Adam, It is Adam, My user is Bella, This is Bella, I am Bella, It is Bella]   \n",
       "2                                                                          [How are you?, Hi how are you?, Hello how are you?, Hola how are you?, How are you doing?, Hope you are doing well?, Hello hope you are doing well?]   \n",
       "3  [Good thanks! My user is Adam, Good thanks! This is Adam, Good thanks! I am Adam, Good thanks! It is Adam, Great thanks! My user is Bella, Great thanks! This is Bella, Great thanks! I am Bella, Great thanks! It is Bella]   \n",
       "4                                                             [What is my name?, What do you call me?, Who do you think I am?, What do you think I am?, Who are you talking to?, What name do you call me by?, Tell me my name]   \n",
       "\n",
       "                     intent  \n",
       "0                  Greeting  \n",
       "1          GreetingResponse  \n",
       "2          CourtesyGreeting  \n",
       "3  CourtesyGreetingResponse  \n",
       "4         CurrentHumanQuery  "
      ]
     },
     "execution_count": 4,
     "metadata": {},
     "output_type": "execute_result"
    }
   ],
   "source": [
    "df_patterns = df[['text', 'intent']]\n",
    "df_responses = df[['responses', 'intent']]\n",
    "df_patterns.head()"
   ]
  },
  {
   "cell_type": "code",
   "execution_count": 5,
   "id": "ab2ce03b",
   "metadata": {
    "execution": {
     "iopub.execute_input": "2023-03-14T12:09:11.294345Z",
     "iopub.status.busy": "2023-03-14T12:09:11.294055Z",
     "iopub.status.idle": "2023-03-14T12:09:11.300286Z",
     "shell.execute_reply": "2023-03-14T12:09:11.299198Z"
    },
    "papermill": {
     "duration": 0.021575,
     "end_time": "2023-03-14T12:09:11.302442",
     "exception": false,
     "start_time": "2023-03-14T12:09:11.280867",
     "status": "completed"
    },
    "tags": []
   },
   "outputs": [
    {
     "data": {
      "text/plain": [
       "(22, 2)"
      ]
     },
     "execution_count": 5,
     "metadata": {},
     "output_type": "execute_result"
    }
   ],
   "source": [
    "df_patterns.shape"
   ]
  },
  {
   "cell_type": "code",
   "execution_count": 6,
   "id": "bb959d30",
   "metadata": {
    "execution": {
     "iopub.execute_input": "2023-03-14T12:09:11.331366Z",
     "iopub.status.busy": "2023-03-14T12:09:11.331055Z",
     "iopub.status.idle": "2023-03-14T12:09:11.360465Z",
     "shell.execute_reply": "2023-03-14T12:09:11.359460Z"
    },
    "papermill": {
     "duration": 0.046729,
     "end_time": "2023-03-14T12:09:11.362820",
     "exception": false,
     "start_time": "2023-03-14T12:09:11.316091",
     "status": "completed"
    },
    "tags": []
   },
   "outputs": [
    {
     "data": {
      "text/html": [
       "<div>\n",
       "<style scoped>\n",
       "    .dataframe tbody tr th:only-of-type {\n",
       "        vertical-align: middle;\n",
       "    }\n",
       "\n",
       "    .dataframe tbody tr th {\n",
       "        vertical-align: top;\n",
       "    }\n",
       "\n",
       "    .dataframe thead th {\n",
       "        text-align: right;\n",
       "    }\n",
       "</style>\n",
       "<table border=\"1\" class=\"dataframe\">\n",
       "  <thead>\n",
       "    <tr style=\"text-align: right;\">\n",
       "      <th></th>\n",
       "      <th>text</th>\n",
       "      <th>intent</th>\n",
       "    </tr>\n",
       "  </thead>\n",
       "  <tbody>\n",
       "    <tr>\n",
       "      <th>0</th>\n",
       "      <td>Hi</td>\n",
       "      <td>Greeting</td>\n",
       "    </tr>\n",
       "    <tr>\n",
       "      <th>0</th>\n",
       "      <td>Hi there</td>\n",
       "      <td>Greeting</td>\n",
       "    </tr>\n",
       "    <tr>\n",
       "      <th>0</th>\n",
       "      <td>Hola</td>\n",
       "      <td>Greeting</td>\n",
       "    </tr>\n",
       "    <tr>\n",
       "      <th>0</th>\n",
       "      <td>Hello</td>\n",
       "      <td>Greeting</td>\n",
       "    </tr>\n",
       "    <tr>\n",
       "      <th>0</th>\n",
       "      <td>Hello there</td>\n",
       "      <td>Greeting</td>\n",
       "    </tr>\n",
       "  </tbody>\n",
       "</table>\n",
       "</div>"
      ],
      "text/plain": [
       "          text    intent\n",
       "0           Hi  Greeting\n",
       "0     Hi there  Greeting\n",
       "0         Hola  Greeting\n",
       "0        Hello  Greeting\n",
       "0  Hello there  Greeting"
      ]
     },
     "execution_count": 6,
     "metadata": {},
     "output_type": "execute_result"
    }
   ],
   "source": [
    "df_patterns = df_patterns.explode('text')\n",
    "df_patterns.head()"
   ]
  },
  {
   "cell_type": "code",
   "execution_count": 7,
   "id": "09de10bf",
   "metadata": {
    "execution": {
     "iopub.execute_input": "2023-03-14T12:09:11.392582Z",
     "iopub.status.busy": "2023-03-14T12:09:11.391552Z",
     "iopub.status.idle": "2023-03-14T12:09:11.405924Z",
     "shell.execute_reply": "2023-03-14T12:09:11.404600Z"
    },
    "papermill": {
     "duration": 0.031748,
     "end_time": "2023-03-14T12:09:11.408415",
     "exception": false,
     "start_time": "2023-03-14T12:09:11.376667",
     "status": "completed"
    },
    "tags": []
   },
   "outputs": [
    {
     "data": {
      "text/html": [
       "<div>\n",
       "<style scoped>\n",
       "    .dataframe tbody tr th:only-of-type {\n",
       "        vertical-align: middle;\n",
       "    }\n",
       "\n",
       "    .dataframe tbody tr th {\n",
       "        vertical-align: top;\n",
       "    }\n",
       "\n",
       "    .dataframe thead th {\n",
       "        text-align: right;\n",
       "    }\n",
       "</style>\n",
       "<table border=\"1\" class=\"dataframe\">\n",
       "  <thead>\n",
       "    <tr style=\"text-align: right;\">\n",
       "      <th></th>\n",
       "      <th>text</th>\n",
       "      <th>intent</th>\n",
       "    </tr>\n",
       "  </thead>\n",
       "  <tbody>\n",
       "    <tr>\n",
       "      <th>count</th>\n",
       "      <td>143</td>\n",
       "      <td>143</td>\n",
       "    </tr>\n",
       "    <tr>\n",
       "      <th>unique</th>\n",
       "      <td>142</td>\n",
       "      <td>22</td>\n",
       "    </tr>\n",
       "    <tr>\n",
       "      <th>top</th>\n",
       "      <td>Your real name please?</td>\n",
       "      <td>CourtesyGreetingResponse</td>\n",
       "    </tr>\n",
       "    <tr>\n",
       "      <th>freq</th>\n",
       "      <td>2</td>\n",
       "      <td>8</td>\n",
       "    </tr>\n",
       "  </tbody>\n",
       "</table>\n",
       "</div>"
      ],
      "text/plain": [
       "                          text                    intent\n",
       "count                      143                       143\n",
       "unique                     142                        22\n",
       "top     Your real name please?  CourtesyGreetingResponse\n",
       "freq                         2                         8"
      ]
     },
     "execution_count": 7,
     "metadata": {},
     "output_type": "execute_result"
    }
   ],
   "source": [
    "df_patterns.describe()"
   ]
  },
  {
   "cell_type": "code",
   "execution_count": 8,
   "id": "da193bdb",
   "metadata": {
    "execution": {
     "iopub.execute_input": "2023-03-14T12:09:11.436367Z",
     "iopub.status.busy": "2023-03-14T12:09:11.435346Z",
     "iopub.status.idle": "2023-03-14T12:09:11.441580Z",
     "shell.execute_reply": "2023-03-14T12:09:11.440683Z"
    },
    "papermill": {
     "duration": 0.022215,
     "end_time": "2023-03-14T12:09:11.443892",
     "exception": false,
     "start_time": "2023-03-14T12:09:11.421677",
     "status": "completed"
    },
    "tags": []
   },
   "outputs": [],
   "source": [
    "df_patterns.drop_duplicates(inplace= True)"
   ]
  },
  {
   "cell_type": "code",
   "execution_count": 9,
   "id": "7f9ac517",
   "metadata": {
    "execution": {
     "iopub.execute_input": "2023-03-14T12:09:11.471149Z",
     "iopub.status.busy": "2023-03-14T12:09:11.470712Z",
     "iopub.status.idle": "2023-03-14T12:09:11.483830Z",
     "shell.execute_reply": "2023-03-14T12:09:11.482791Z"
    },
    "papermill": {
     "duration": 0.029073,
     "end_time": "2023-03-14T12:09:11.486015",
     "exception": false,
     "start_time": "2023-03-14T12:09:11.456942",
     "status": "completed"
    },
    "tags": []
   },
   "outputs": [
    {
     "data": {
      "text/html": [
       "<div>\n",
       "<style scoped>\n",
       "    .dataframe tbody tr th:only-of-type {\n",
       "        vertical-align: middle;\n",
       "    }\n",
       "\n",
       "    .dataframe tbody tr th {\n",
       "        vertical-align: top;\n",
       "    }\n",
       "\n",
       "    .dataframe thead th {\n",
       "        text-align: right;\n",
       "    }\n",
       "</style>\n",
       "<table border=\"1\" class=\"dataframe\">\n",
       "  <thead>\n",
       "    <tr style=\"text-align: right;\">\n",
       "      <th></th>\n",
       "      <th>text</th>\n",
       "      <th>intent</th>\n",
       "    </tr>\n",
       "  </thead>\n",
       "  <tbody>\n",
       "    <tr>\n",
       "      <th>count</th>\n",
       "      <td>142</td>\n",
       "      <td>142</td>\n",
       "    </tr>\n",
       "    <tr>\n",
       "      <th>unique</th>\n",
       "      <td>142</td>\n",
       "      <td>22</td>\n",
       "    </tr>\n",
       "    <tr>\n",
       "      <th>top</th>\n",
       "      <td>Hi</td>\n",
       "      <td>CourtesyGreetingResponse</td>\n",
       "    </tr>\n",
       "    <tr>\n",
       "      <th>freq</th>\n",
       "      <td>1</td>\n",
       "      <td>8</td>\n",
       "    </tr>\n",
       "  </tbody>\n",
       "</table>\n",
       "</div>"
      ],
      "text/plain": [
       "       text                    intent\n",
       "count   142                       142\n",
       "unique  142                        22\n",
       "top      Hi  CourtesyGreetingResponse\n",
       "freq      1                         8"
      ]
     },
     "execution_count": 9,
     "metadata": {},
     "output_type": "execute_result"
    }
   ],
   "source": [
    "df_patterns.describe()"
   ]
  },
  {
   "cell_type": "code",
   "execution_count": 10,
   "id": "dec56312",
   "metadata": {
    "execution": {
     "iopub.execute_input": "2023-03-14T12:09:11.513503Z",
     "iopub.status.busy": "2023-03-14T12:09:11.513238Z",
     "iopub.status.idle": "2023-03-14T12:09:11.520182Z",
     "shell.execute_reply": "2023-03-14T12:09:11.519151Z"
    },
    "papermill": {
     "duration": 0.023163,
     "end_time": "2023-03-14T12:09:11.522366",
     "exception": false,
     "start_time": "2023-03-14T12:09:11.499203",
     "status": "completed"
    },
    "tags": []
   },
   "outputs": [
    {
     "data": {
      "text/plain": [
       "CourtesyGreetingResponse    8\n",
       "GreetingResponse            8\n",
       "Greeting                    7\n",
       "NotTalking2U                7\n",
       "PodBayDoorResponse          7\n",
       "PodBayDoor                  7\n",
       "Clever                      7\n",
       "Shutup                      7\n",
       "TimeQuery                   7\n",
       "CurrentHumanQuery           7\n",
       "CourtesyGreeting            7\n",
       "SelfAware                   7\n",
       "Thanks                      6\n",
       "UnderstandQuery             6\n",
       "RealNameQuery               6\n",
       "CourtesyGoodBye             6\n",
       "WhoAmI                      6\n",
       "NameQuery                   6\n",
       "Gossip                      6\n",
       "Jokes                       6\n",
       "Swearing                    4\n",
       "GoodBye                     4\n",
       "Name: intent, dtype: int64"
      ]
     },
     "execution_count": 10,
     "metadata": {},
     "output_type": "execute_result"
    }
   ],
   "source": [
    "df_patterns['intent'].value_counts()"
   ]
  },
  {
   "cell_type": "markdown",
   "id": "4f0606cf",
   "metadata": {
    "papermill": {
     "duration": 0.012997,
     "end_time": "2023-03-14T12:09:11.548194",
     "exception": false,
     "start_time": "2023-03-14T12:09:11.535197",
     "status": "completed"
    },
    "tags": []
   },
   "source": [
    "## Data Balancing\n",
    "---\n",
    "We will balance the unbalanced classes by randomly duplicating rows from such classes"
   ]
  },
  {
   "cell_type": "code",
   "execution_count": 11,
   "id": "ef4d0f3f",
   "metadata": {
    "execution": {
     "iopub.execute_input": "2023-03-14T12:09:11.576543Z",
     "iopub.status.busy": "2023-03-14T12:09:11.576247Z",
     "iopub.status.idle": "2023-03-14T12:09:11.582396Z",
     "shell.execute_reply": "2023-03-14T12:09:11.581277Z"
    },
    "papermill": {
     "duration": 0.023465,
     "end_time": "2023-03-14T12:09:11.584687",
     "exception": false,
     "start_time": "2023-03-14T12:09:11.561222",
     "status": "completed"
    },
    "tags": []
   },
   "outputs": [],
   "source": [
    "def balance_data(df_patterns):\n",
    "    df_intent = df_patterns['intent']\n",
    "    max_counts = df_intent.value_counts().max() #max number of examples for a class\n",
    "    \n",
    "    new_df = df_patterns.copy()\n",
    "    for i in df_intent.unique():\n",
    "        i_count = int(df_intent[df_intent == i].value_counts())\n",
    "        if i_count < max_counts:\n",
    "            i_samples = df_patterns[df_intent == i].sample(max_counts - i_count, replace = True, ignore_index = True)\n",
    "            new_df = pd.concat([new_df, i_samples])\n",
    "    return new_df"
   ]
  },
  {
   "cell_type": "code",
   "execution_count": 12,
   "id": "062ef1f0",
   "metadata": {
    "execution": {
     "iopub.execute_input": "2023-03-14T12:09:11.612183Z",
     "iopub.status.busy": "2023-03-14T12:09:11.611321Z",
     "iopub.status.idle": "2023-03-14T12:09:11.647904Z",
     "shell.execute_reply": "2023-03-14T12:09:11.647002Z"
    },
    "papermill": {
     "duration": 0.052331,
     "end_time": "2023-03-14T12:09:11.650095",
     "exception": false,
     "start_time": "2023-03-14T12:09:11.597764",
     "status": "completed"
    },
    "tags": []
   },
   "outputs": [],
   "source": [
    "df_patterns = balance_data(df_patterns)"
   ]
  },
  {
   "cell_type": "code",
   "execution_count": 13,
   "id": "550e4474",
   "metadata": {
    "execution": {
     "iopub.execute_input": "2023-03-14T12:09:11.679655Z",
     "iopub.status.busy": "2023-03-14T12:09:11.679377Z",
     "iopub.status.idle": "2023-03-14T12:09:11.686611Z",
     "shell.execute_reply": "2023-03-14T12:09:11.685675Z"
    },
    "papermill": {
     "duration": 0.023682,
     "end_time": "2023-03-14T12:09:11.688776",
     "exception": false,
     "start_time": "2023-03-14T12:09:11.665094",
     "status": "completed"
    },
    "tags": []
   },
   "outputs": [
    {
     "data": {
      "text/plain": [
       "Greeting                    8\n",
       "GreetingResponse            8\n",
       "PodBayDoorResponse          8\n",
       "PodBayDoor                  8\n",
       "Jokes                       8\n",
       "Gossip                      8\n",
       "Clever                      8\n",
       "WhoAmI                      8\n",
       "CourtesyGoodBye             8\n",
       "GoodBye                     8\n",
       "Swearing                    8\n",
       "Shutup                      8\n",
       "UnderstandQuery             8\n",
       "NotTalking2U                8\n",
       "Thanks                      8\n",
       "TimeQuery                   8\n",
       "RealNameQuery               8\n",
       "NameQuery                   8\n",
       "CurrentHumanQuery           8\n",
       "CourtesyGreetingResponse    8\n",
       "CourtesyGreeting            8\n",
       "SelfAware                   8\n",
       "Name: intent, dtype: int64"
      ]
     },
     "execution_count": 13,
     "metadata": {},
     "output_type": "execute_result"
    }
   ],
   "source": [
    "df_patterns['intent'].value_counts()"
   ]
  },
  {
   "cell_type": "markdown",
   "id": "eeb12125",
   "metadata": {
    "papermill": {
     "duration": 0.015628,
     "end_time": "2023-03-14T12:09:11.717269",
     "exception": false,
     "start_time": "2023-03-14T12:09:11.701641",
     "status": "completed"
    },
    "tags": []
   },
   "source": [
    "## Token_ID, Attention_Mask, Labels\n",
    "---"
   ]
  },
  {
   "cell_type": "code",
   "execution_count": 14,
   "id": "9b5f4179",
   "metadata": {
    "execution": {
     "iopub.execute_input": "2023-03-14T12:09:11.745044Z",
     "iopub.status.busy": "2023-03-14T12:09:11.744750Z",
     "iopub.status.idle": "2023-03-14T12:09:11.749683Z",
     "shell.execute_reply": "2023-03-14T12:09:11.749007Z"
    },
    "papermill": {
     "duration": 0.020809,
     "end_time": "2023-03-14T12:09:11.751577",
     "exception": false,
     "start_time": "2023-03-14T12:09:11.730768",
     "status": "completed"
    },
    "tags": []
   },
   "outputs": [],
   "source": [
    "seq_len = 256\n",
    "num_samples = len(df_patterns)\n",
    "\n",
    "Xids = np.zeros((num_samples, seq_len)) #Token ids\n",
    "Xmask = np.zeros((num_samples, seq_len)) #attention mask"
   ]
  },
  {
   "cell_type": "code",
   "execution_count": 15,
   "id": "0c20e7c2",
   "metadata": {
    "execution": {
     "iopub.execute_input": "2023-03-14T12:09:11.780378Z",
     "iopub.status.busy": "2023-03-14T12:09:11.780101Z",
     "iopub.status.idle": "2023-03-14T12:09:11.785860Z",
     "shell.execute_reply": "2023-03-14T12:09:11.784861Z"
    },
    "papermill": {
     "duration": 0.0225,
     "end_time": "2023-03-14T12:09:11.787799",
     "exception": false,
     "start_time": "2023-03-14T12:09:11.765299",
     "status": "completed"
    },
    "tags": []
   },
   "outputs": [
    {
     "data": {
      "text/plain": [
       "(176, 256)"
      ]
     },
     "execution_count": 15,
     "metadata": {},
     "output_type": "execute_result"
    }
   ],
   "source": [
    "Xids.shape"
   ]
  },
  {
   "cell_type": "code",
   "execution_count": 16,
   "id": "652ddd29",
   "metadata": {
    "execution": {
     "iopub.execute_input": "2023-03-14T12:09:11.816722Z",
     "iopub.status.busy": "2023-03-14T12:09:11.815134Z",
     "iopub.status.idle": "2023-03-14T12:09:11.822970Z",
     "shell.execute_reply": "2023-03-14T12:09:11.821855Z"
    },
    "papermill": {
     "duration": 0.024132,
     "end_time": "2023-03-14T12:09:11.825313",
     "exception": false,
     "start_time": "2023-03-14T12:09:11.801181",
     "status": "completed"
    },
    "tags": []
   },
   "outputs": [
    {
     "data": {
      "text/plain": [
       "array([[0., 0., 0., ..., 0., 0., 0.],\n",
       "       [0., 0., 0., ..., 0., 0., 0.],\n",
       "       [0., 0., 0., ..., 0., 0., 0.],\n",
       "       ...,\n",
       "       [0., 0., 0., ..., 0., 0., 0.],\n",
       "       [0., 0., 0., ..., 0., 0., 0.],\n",
       "       [0., 0., 0., ..., 0., 0., 0.]])"
      ]
     },
     "execution_count": 16,
     "metadata": {},
     "output_type": "execute_result"
    }
   ],
   "source": [
    "Xids"
   ]
  },
  {
   "cell_type": "code",
   "execution_count": 17,
   "id": "7ac4a10a",
   "metadata": {
    "execution": {
     "iopub.execute_input": "2023-03-14T12:09:11.854380Z",
     "iopub.status.busy": "2023-03-14T12:09:11.854104Z",
     "iopub.status.idle": "2023-03-14T12:09:32.940712Z",
     "shell.execute_reply": "2023-03-14T12:09:32.939007Z"
    },
    "papermill": {
     "duration": 21.102942,
     "end_time": "2023-03-14T12:09:32.943066",
     "exception": false,
     "start_time": "2023-03-14T12:09:11.840124",
     "status": "completed"
    },
    "tags": []
   },
   "outputs": [
    {
     "data": {
      "application/vnd.jupyter.widget-view+json": {
       "model_id": "ef23816ad8a44a34b4fcc4e1a3fb4e6a",
       "version_major": 2,
       "version_minor": 0
      },
      "text/plain": [
       "Downloading (…)solve/main/vocab.txt:   0%|          | 0.00/213k [00:00<?, ?B/s]"
      ]
     },
     "metadata": {},
     "output_type": "display_data"
    },
    {
     "data": {
      "application/vnd.jupyter.widget-view+json": {
       "model_id": "04bd661deeb246069a74575a60606bf3",
       "version_major": 2,
       "version_minor": 0
      },
      "text/plain": [
       "Downloading (…)okenizer_config.json:   0%|          | 0.00/29.0 [00:00<?, ?B/s]"
      ]
     },
     "metadata": {},
     "output_type": "display_data"
    },
    {
     "data": {
      "application/vnd.jupyter.widget-view+json": {
       "model_id": "79167c9af469474d8f4b80dbf8273b62",
       "version_major": 2,
       "version_minor": 0
      },
      "text/plain": [
       "Downloading (…)lve/main/config.json:   0%|          | 0.00/570 [00:00<?, ?B/s]"
      ]
     },
     "metadata": {},
     "output_type": "display_data"
    },
    {
     "name": "stdout",
     "output_type": "stream",
     "text": [
      "CPU times: user 4.72 s, sys: 1.96 s, total: 6.68 s\n",
      "Wall time: 21.1 s\n"
     ]
    }
   ],
   "source": [
    "%%time\n",
    "# we will populate the above zero arrays with actual values for each token\n",
    "from transformers import BertTokenizer\n",
    "\n",
    "tokenizer = BertTokenizer.from_pretrained('bert-base-cased')\n",
    "\n",
    "for i, phrase in enumerate(df_patterns['text']):\n",
    "    tokens = tokenizer.encode_plus(phrase, max_length= seq_len, truncation= True, padding= 'max_length', add_special_tokens = True, return_tensors= 'tf')\n",
    "    \n",
    "    Xids[i, :] = tokens['input_ids']\n",
    "    Xmask[i, :] = tokens['attention_mask']"
   ]
  },
  {
   "cell_type": "code",
   "execution_count": 18,
   "id": "040aa207",
   "metadata": {
    "execution": {
     "iopub.execute_input": "2023-03-14T12:09:32.974375Z",
     "iopub.status.busy": "2023-03-14T12:09:32.972453Z",
     "iopub.status.idle": "2023-03-14T12:09:32.983007Z",
     "shell.execute_reply": "2023-03-14T12:09:32.981674Z"
    },
    "papermill": {
     "duration": 0.027977,
     "end_time": "2023-03-14T12:09:32.985276",
     "exception": false,
     "start_time": "2023-03-14T12:09:32.957299",
     "status": "completed"
    },
    "tags": []
   },
   "outputs": [
    {
     "data": {
      "text/plain": [
       "array([[  101.,  8790.,   102., ...,     0.,     0.,     0.],\n",
       "       [  101.,  8790.,  1175., ...,     0.,     0.,     0.],\n",
       "       [  101.,  9800.,  1742., ...,     0.,     0.,     0.],\n",
       "       ...,\n",
       "       [  101.,  2825.,  1128., ...,     0.,     0.,     0.],\n",
       "       [  101., 13410.,  1128., ...,     0.,     0.,     0.],\n",
       "       [  101.,  5424.,  1128., ...,     0.,     0.,     0.]])"
      ]
     },
     "execution_count": 18,
     "metadata": {},
     "output_type": "execute_result"
    }
   ],
   "source": [
    "Xids"
   ]
  },
  {
   "cell_type": "markdown",
   "id": "9711cd27",
   "metadata": {
    "papermill": {
     "duration": 0.013703,
     "end_time": "2023-03-14T12:09:33.013026",
     "exception": false,
     "start_time": "2023-03-14T12:09:32.999323",
     "status": "completed"
    },
    "tags": []
   },
   "source": [
    "one-hot encoding the labels  \n",
    "first we will label encode the current values"
   ]
  },
  {
   "cell_type": "code",
   "execution_count": 19,
   "id": "024419c9",
   "metadata": {
    "execution": {
     "iopub.execute_input": "2023-03-14T12:09:33.043727Z",
     "iopub.status.busy": "2023-03-14T12:09:33.042202Z",
     "iopub.status.idle": "2023-03-14T12:09:34.284329Z",
     "shell.execute_reply": "2023-03-14T12:09:34.283096Z"
    },
    "papermill": {
     "duration": 1.260275,
     "end_time": "2023-03-14T12:09:34.287447",
     "exception": false,
     "start_time": "2023-03-14T12:09:33.027172",
     "status": "completed"
    },
    "tags": []
   },
   "outputs": [],
   "source": [
    "from sklearn.preprocessing import LabelEncoder\n",
    "le = LabelEncoder()"
   ]
  },
  {
   "cell_type": "code",
   "execution_count": 20,
   "id": "9b9c5e66",
   "metadata": {
    "execution": {
     "iopub.execute_input": "2023-03-14T12:09:34.317364Z",
     "iopub.status.busy": "2023-03-14T12:09:34.317044Z",
     "iopub.status.idle": "2023-03-14T12:09:34.324082Z",
     "shell.execute_reply": "2023-03-14T12:09:34.323033Z"
    },
    "papermill": {
     "duration": 0.024717,
     "end_time": "2023-03-14T12:09:34.326396",
     "exception": false,
     "start_time": "2023-03-14T12:09:34.301679",
     "status": "completed"
    },
    "tags": []
   },
   "outputs": [
    {
     "data": {
      "text/plain": [
       "array([ 7,  7,  7,  7,  7,  7,  7,  8,  8,  8,  8,  8,  8,  8,  8,  2,  2,\n",
       "        2,  2,  2,  2,  2,  3,  3,  3,  3,  3,  3,  3,  3,  4,  4,  4,  4,\n",
       "        4,  4,  4, 10, 10, 10, 10, 10, 10, 14, 14, 14, 14, 14, 14, 19, 19,\n",
       "       19, 19, 19, 19, 19, 18, 18, 18, 18, 18, 18, 11, 11, 11, 11, 11, 11,\n",
       "       11, 20, 20, 20, 20, 20, 20, 16, 16, 16, 16, 16, 16, 16, 17, 17, 17,\n",
       "       17,  5,  5,  5,  5,  1,  1,  1,  1,  1,  1, 21, 21, 21, 21, 21, 21,\n",
       "        0,  0,  0,  0,  0,  0,  0,  6,  6,  6,  6,  6,  6,  9,  9,  9,  9,\n",
       "        9,  9, 12, 12, 12, 12, 12, 12, 12, 13, 13, 13, 13, 13, 13, 13, 15,\n",
       "       15, 15, 15, 15, 15, 15,  7,  2,  4, 10, 10, 14, 14, 19, 18, 18, 11,\n",
       "       20, 20, 16, 17, 17, 17, 17,  5,  5,  5,  5,  1,  1, 21, 21,  0,  6,\n",
       "        6,  9,  9, 12, 13, 15])"
      ]
     },
     "execution_count": 20,
     "metadata": {},
     "output_type": "execute_result"
    }
   ],
   "source": [
    "arr = le.fit_transform(df_patterns['intent'])\n",
    "arr"
   ]
  },
  {
   "cell_type": "code",
   "execution_count": 21,
   "id": "11ef3625",
   "metadata": {
    "execution": {
     "iopub.execute_input": "2023-03-14T12:09:34.356399Z",
     "iopub.status.busy": "2023-03-14T12:09:34.356122Z",
     "iopub.status.idle": "2023-03-14T12:09:34.363467Z",
     "shell.execute_reply": "2023-03-14T12:09:34.362326Z"
    },
    "papermill": {
     "duration": 0.024951,
     "end_time": "2023-03-14T12:09:34.365803",
     "exception": false,
     "start_time": "2023-03-14T12:09:34.340852",
     "status": "completed"
    },
    "tags": []
   },
   "outputs": [
    {
     "data": {
      "text/plain": [
       "array(['Clever', 'CourtesyGoodBye', 'CourtesyGreeting',\n",
       "       'CourtesyGreetingResponse', 'CurrentHumanQuery', 'GoodBye',\n",
       "       'Gossip', 'Greeting', 'GreetingResponse', 'Jokes', 'NameQuery',\n",
       "       'NotTalking2U', 'PodBayDoor', 'PodBayDoorResponse',\n",
       "       'RealNameQuery', 'SelfAware', 'Shutup', 'Swearing', 'Thanks',\n",
       "       'TimeQuery', 'UnderstandQuery', 'WhoAmI'], dtype=object)"
      ]
     },
     "execution_count": 21,
     "metadata": {},
     "output_type": "execute_result"
    }
   ],
   "source": [
    "le.classes_"
   ]
  },
  {
   "cell_type": "code",
   "execution_count": 22,
   "id": "abfb753d",
   "metadata": {
    "execution": {
     "iopub.execute_input": "2023-03-14T12:09:34.395999Z",
     "iopub.status.busy": "2023-03-14T12:09:34.395631Z",
     "iopub.status.idle": "2023-03-14T12:09:34.403610Z",
     "shell.execute_reply": "2023-03-14T12:09:34.402406Z"
    },
    "papermill": {
     "duration": 0.025994,
     "end_time": "2023-03-14T12:09:34.406056",
     "exception": false,
     "start_time": "2023-03-14T12:09:34.380062",
     "status": "completed"
    },
    "tags": []
   },
   "outputs": [
    {
     "data": {
      "text/plain": [
       "array([[0., 0., 0., ..., 0., 0., 0.],\n",
       "       [0., 0., 0., ..., 0., 0., 0.],\n",
       "       [0., 0., 0., ..., 0., 0., 0.],\n",
       "       ...,\n",
       "       [0., 0., 0., ..., 0., 0., 0.],\n",
       "       [0., 0., 0., ..., 0., 0., 0.],\n",
       "       [0., 0., 0., ..., 0., 0., 0.]])"
      ]
     },
     "execution_count": 22,
     "metadata": {},
     "output_type": "execute_result"
    }
   ],
   "source": [
    "labels = np.zeros((num_samples, arr.max()+1))\n",
    "labels"
   ]
  },
  {
   "cell_type": "code",
   "execution_count": 23,
   "id": "4b8001f6",
   "metadata": {
    "execution": {
     "iopub.execute_input": "2023-03-14T12:09:34.436804Z",
     "iopub.status.busy": "2023-03-14T12:09:34.436531Z",
     "iopub.status.idle": "2023-03-14T12:09:34.444450Z",
     "shell.execute_reply": "2023-03-14T12:09:34.443369Z"
    },
    "papermill": {
     "duration": 0.025222,
     "end_time": "2023-03-14T12:09:34.446816",
     "exception": false,
     "start_time": "2023-03-14T12:09:34.421594",
     "status": "completed"
    },
    "tags": []
   },
   "outputs": [
    {
     "data": {
      "text/plain": [
       "array([[0., 0., 0., ..., 0., 0., 0.],\n",
       "       [0., 0., 0., ..., 0., 0., 0.],\n",
       "       [0., 0., 0., ..., 0., 0., 0.],\n",
       "       ...,\n",
       "       [0., 0., 0., ..., 0., 0., 0.],\n",
       "       [0., 0., 0., ..., 0., 0., 0.],\n",
       "       [0., 0., 0., ..., 0., 0., 0.]])"
      ]
     },
     "execution_count": 23,
     "metadata": {},
     "output_type": "execute_result"
    }
   ],
   "source": [
    "labels[np.arange(num_samples), arr] = 1\n",
    "labels "
   ]
  },
  {
   "cell_type": "code",
   "execution_count": 24,
   "id": "5328d909",
   "metadata": {
    "execution": {
     "iopub.execute_input": "2023-03-14T12:09:34.478724Z",
     "iopub.status.busy": "2023-03-14T12:09:34.478418Z",
     "iopub.status.idle": "2023-03-14T12:09:34.485192Z",
     "shell.execute_reply": "2023-03-14T12:09:34.484113Z"
    },
    "papermill": {
     "duration": 0.025323,
     "end_time": "2023-03-14T12:09:34.487618",
     "exception": false,
     "start_time": "2023-03-14T12:09:34.462295",
     "status": "completed"
    },
    "tags": []
   },
   "outputs": [
    {
     "data": {
      "text/plain": [
       "176"
      ]
     },
     "execution_count": 24,
     "metadata": {},
     "output_type": "execute_result"
    }
   ],
   "source": [
    "len(labels)"
   ]
  },
  {
   "cell_type": "markdown",
   "id": "6ca74ee4",
   "metadata": {
    "papermill": {
     "duration": 0.015781,
     "end_time": "2023-03-14T12:09:34.519064",
     "exception": false,
     "start_time": "2023-03-14T12:09:34.503283",
     "status": "completed"
    },
    "tags": []
   },
   "source": [
    "## Data Pipeline\n",
    "---"
   ]
  },
  {
   "cell_type": "code",
   "execution_count": 25,
   "id": "44eec576",
   "metadata": {
    "execution": {
     "iopub.execute_input": "2023-03-14T12:09:34.551919Z",
     "iopub.status.busy": "2023-03-14T12:09:34.551061Z",
     "iopub.status.idle": "2023-03-14T12:09:34.556049Z",
     "shell.execute_reply": "2023-03-14T12:09:34.555089Z"
    },
    "papermill": {
     "duration": 0.023683,
     "end_time": "2023-03-14T12:09:34.558398",
     "exception": false,
     "start_time": "2023-03-14T12:09:34.534715",
     "status": "completed"
    },
    "tags": []
   },
   "outputs": [],
   "source": [
    "import tensorflow as tf"
   ]
  },
  {
   "cell_type": "code",
   "execution_count": 26,
   "id": "8ada2592",
   "metadata": {
    "execution": {
     "iopub.execute_input": "2023-03-14T12:09:34.589670Z",
     "iopub.status.busy": "2023-03-14T12:09:34.589369Z",
     "iopub.status.idle": "2023-03-14T12:09:34.617919Z",
     "shell.execute_reply": "2023-03-14T12:09:34.616911Z"
    },
    "papermill": {
     "duration": 0.046899,
     "end_time": "2023-03-14T12:09:34.620051",
     "exception": false,
     "start_time": "2023-03-14T12:09:34.573152",
     "status": "completed"
    },
    "tags": []
   },
   "outputs": [
    {
     "data": {
      "text/plain": [
       "<TakeDataset element_spec=(TensorSpec(shape=(256,), dtype=tf.float64, name=None), TensorSpec(shape=(256,), dtype=tf.float64, name=None), TensorSpec(shape=(22,), dtype=tf.float64, name=None))>"
      ]
     },
     "execution_count": 26,
     "metadata": {},
     "output_type": "execute_result"
    }
   ],
   "source": [
    "dataset = tf.data.Dataset.from_tensor_slices((Xids, Xmask, labels))\n",
    "dataset.take(1)"
   ]
  },
  {
   "cell_type": "code",
   "execution_count": 27,
   "id": "54d7377b",
   "metadata": {
    "execution": {
     "iopub.execute_input": "2023-03-14T12:09:34.650167Z",
     "iopub.status.busy": "2023-03-14T12:09:34.649364Z",
     "iopub.status.idle": "2023-03-14T12:09:34.826395Z",
     "shell.execute_reply": "2023-03-14T12:09:34.824886Z"
    },
    "papermill": {
     "duration": 0.194501,
     "end_time": "2023-03-14T12:09:34.828855",
     "exception": false,
     "start_time": "2023-03-14T12:09:34.634354",
     "status": "completed"
    },
    "tags": []
   },
   "outputs": [
    {
     "data": {
      "text/plain": [
       "(array([ 101., 8790.,  102.,    0.,    0.,    0.,    0.,    0.,    0.,\n",
       "           0.,    0.,    0.,    0.,    0.,    0.,    0.,    0.,    0.,\n",
       "           0.,    0.,    0.,    0.,    0.,    0.,    0.,    0.,    0.,\n",
       "           0.,    0.,    0.,    0.,    0.,    0.,    0.,    0.,    0.,\n",
       "           0.,    0.,    0.,    0.,    0.,    0.,    0.,    0.,    0.,\n",
       "           0.,    0.,    0.,    0.,    0.,    0.,    0.,    0.,    0.,\n",
       "           0.,    0.,    0.,    0.,    0.,    0.,    0.,    0.,    0.,\n",
       "           0.,    0.,    0.,    0.,    0.,    0.,    0.,    0.,    0.,\n",
       "           0.,    0.,    0.,    0.,    0.,    0.,    0.,    0.,    0.,\n",
       "           0.,    0.,    0.,    0.,    0.,    0.,    0.,    0.,    0.,\n",
       "           0.,    0.,    0.,    0.,    0.,    0.,    0.,    0.,    0.,\n",
       "           0.,    0.,    0.,    0.,    0.,    0.,    0.,    0.,    0.,\n",
       "           0.,    0.,    0.,    0.,    0.,    0.,    0.,    0.,    0.,\n",
       "           0.,    0.,    0.,    0.,    0.,    0.,    0.,    0.,    0.,\n",
       "           0.,    0.,    0.,    0.,    0.,    0.,    0.,    0.,    0.,\n",
       "           0.,    0.,    0.,    0.,    0.,    0.,    0.,    0.,    0.,\n",
       "           0.,    0.,    0.,    0.,    0.,    0.,    0.,    0.,    0.,\n",
       "           0.,    0.,    0.,    0.,    0.,    0.,    0.,    0.,    0.,\n",
       "           0.,    0.,    0.,    0.,    0.,    0.,    0.,    0.,    0.,\n",
       "           0.,    0.,    0.,    0.,    0.,    0.,    0.,    0.,    0.,\n",
       "           0.,    0.,    0.,    0.,    0.,    0.,    0.,    0.,    0.,\n",
       "           0.,    0.,    0.,    0.,    0.,    0.,    0.,    0.,    0.,\n",
       "           0.,    0.,    0.,    0.,    0.,    0.,    0.,    0.,    0.,\n",
       "           0.,    0.,    0.,    0.,    0.,    0.,    0.,    0.,    0.,\n",
       "           0.,    0.,    0.,    0.,    0.,    0.,    0.,    0.,    0.,\n",
       "           0.,    0.,    0.,    0.,    0.,    0.,    0.,    0.,    0.,\n",
       "           0.,    0.,    0.,    0.,    0.,    0.,    0.,    0.,    0.,\n",
       "           0.,    0.,    0.,    0.,    0.,    0.,    0.,    0.,    0.,\n",
       "           0.,    0.,    0.,    0.]),\n",
       " array([1., 1., 1., 0., 0., 0., 0., 0., 0., 0., 0., 0., 0., 0., 0., 0., 0.,\n",
       "        0., 0., 0., 0., 0., 0., 0., 0., 0., 0., 0., 0., 0., 0., 0., 0., 0.,\n",
       "        0., 0., 0., 0., 0., 0., 0., 0., 0., 0., 0., 0., 0., 0., 0., 0., 0.,\n",
       "        0., 0., 0., 0., 0., 0., 0., 0., 0., 0., 0., 0., 0., 0., 0., 0., 0.,\n",
       "        0., 0., 0., 0., 0., 0., 0., 0., 0., 0., 0., 0., 0., 0., 0., 0., 0.,\n",
       "        0., 0., 0., 0., 0., 0., 0., 0., 0., 0., 0., 0., 0., 0., 0., 0., 0.,\n",
       "        0., 0., 0., 0., 0., 0., 0., 0., 0., 0., 0., 0., 0., 0., 0., 0., 0.,\n",
       "        0., 0., 0., 0., 0., 0., 0., 0., 0., 0., 0., 0., 0., 0., 0., 0., 0.,\n",
       "        0., 0., 0., 0., 0., 0., 0., 0., 0., 0., 0., 0., 0., 0., 0., 0., 0.,\n",
       "        0., 0., 0., 0., 0., 0., 0., 0., 0., 0., 0., 0., 0., 0., 0., 0., 0.,\n",
       "        0., 0., 0., 0., 0., 0., 0., 0., 0., 0., 0., 0., 0., 0., 0., 0., 0.,\n",
       "        0., 0., 0., 0., 0., 0., 0., 0., 0., 0., 0., 0., 0., 0., 0., 0., 0.,\n",
       "        0., 0., 0., 0., 0., 0., 0., 0., 0., 0., 0., 0., 0., 0., 0., 0., 0.,\n",
       "        0., 0., 0., 0., 0., 0., 0., 0., 0., 0., 0., 0., 0., 0., 0., 0., 0.,\n",
       "        0., 0., 0., 0., 0., 0., 0., 0., 0., 0., 0., 0., 0., 0., 0., 0., 0.,\n",
       "        0.]),\n",
       " array([0., 0., 0., 0., 0., 0., 0., 1., 0., 0., 0., 0., 0., 0., 0., 0., 0.,\n",
       "        0., 0., 0., 0., 0.]))"
      ]
     },
     "execution_count": 27,
     "metadata": {},
     "output_type": "execute_result"
    }
   ],
   "source": [
    "dataset.as_numpy_iterator().next()"
   ]
  },
  {
   "cell_type": "markdown",
   "id": "22e2cd98",
   "metadata": {
    "papermill": {
     "duration": 0.025579,
     "end_time": "2023-03-14T12:09:34.879072",
     "exception": false,
     "start_time": "2023-03-14T12:09:34.853493",
     "status": "completed"
    },
    "tags": []
   },
   "source": [
    "Tensorflow expects a tuple with 2 inputs only, examples at index 0 and Labels at index 1"
   ]
  },
  {
   "cell_type": "code",
   "execution_count": 28,
   "id": "28995d25",
   "metadata": {
    "execution": {
     "iopub.execute_input": "2023-03-14T12:09:34.923484Z",
     "iopub.status.busy": "2023-03-14T12:09:34.923112Z",
     "iopub.status.idle": "2023-03-14T12:09:34.927873Z",
     "shell.execute_reply": "2023-03-14T12:09:34.927005Z"
    },
    "papermill": {
     "duration": 0.031276,
     "end_time": "2023-03-14T12:09:34.932019",
     "exception": false,
     "start_time": "2023-03-14T12:09:34.900743",
     "status": "completed"
    },
    "tags": []
   },
   "outputs": [],
   "source": [
    "def map_function(input_ids, masks, labels):\n",
    "    return {'input_ids': input_ids, 'attention_mask': masks}, labels"
   ]
  },
  {
   "cell_type": "code",
   "execution_count": 29,
   "id": "1011215a",
   "metadata": {
    "execution": {
     "iopub.execute_input": "2023-03-14T12:09:34.976127Z",
     "iopub.status.busy": "2023-03-14T12:09:34.975734Z",
     "iopub.status.idle": "2023-03-14T12:09:35.041556Z",
     "shell.execute_reply": "2023-03-14T12:09:35.040538Z"
    },
    "papermill": {
     "duration": 0.091173,
     "end_time": "2023-03-14T12:09:35.044591",
     "exception": false,
     "start_time": "2023-03-14T12:09:34.953418",
     "status": "completed"
    },
    "tags": []
   },
   "outputs": [],
   "source": [
    "dataset = dataset.map(map_function)"
   ]
  },
  {
   "cell_type": "code",
   "execution_count": 30,
   "id": "af809b71",
   "metadata": {
    "execution": {
     "iopub.execute_input": "2023-03-14T12:09:35.091173Z",
     "iopub.status.busy": "2023-03-14T12:09:35.090820Z",
     "iopub.status.idle": "2023-03-14T12:09:35.097870Z",
     "shell.execute_reply": "2023-03-14T12:09:35.096933Z"
    },
    "papermill": {
     "duration": 0.035178,
     "end_time": "2023-03-14T12:09:35.103229",
     "exception": false,
     "start_time": "2023-03-14T12:09:35.068051",
     "status": "completed"
    },
    "tags": []
   },
   "outputs": [
    {
     "data": {
      "text/plain": [
       "<TakeDataset element_spec=({'input_ids': TensorSpec(shape=(256,), dtype=tf.float64, name=None), 'attention_mask': TensorSpec(shape=(256,), dtype=tf.float64, name=None)}, TensorSpec(shape=(22,), dtype=tf.float64, name=None))>"
      ]
     },
     "execution_count": 30,
     "metadata": {},
     "output_type": "execute_result"
    }
   ],
   "source": [
    "dataset.take(1)"
   ]
  },
  {
   "cell_type": "code",
   "execution_count": 31,
   "id": "953a47a6",
   "metadata": {
    "execution": {
     "iopub.execute_input": "2023-03-14T12:09:35.147744Z",
     "iopub.status.busy": "2023-03-14T12:09:35.147433Z",
     "iopub.status.idle": "2023-03-14T12:09:35.164621Z",
     "shell.execute_reply": "2023-03-14T12:09:35.163634Z"
    },
    "papermill": {
     "duration": 0.041533,
     "end_time": "2023-03-14T12:09:35.166591",
     "exception": false,
     "start_time": "2023-03-14T12:09:35.125058",
     "status": "completed"
    },
    "tags": []
   },
   "outputs": [],
   "source": [
    "batch_size = 8\n",
    "\n",
    "dataset = dataset.shuffle(1000)\n",
    "dataset = dataset.batch(batch_size, drop_remainder= True)"
   ]
  },
  {
   "cell_type": "code",
   "execution_count": 32,
   "id": "20eb471e",
   "metadata": {
    "execution": {
     "iopub.execute_input": "2023-03-14T12:09:35.210354Z",
     "iopub.status.busy": "2023-03-14T12:09:35.209928Z",
     "iopub.status.idle": "2023-03-14T12:09:35.221309Z",
     "shell.execute_reply": "2023-03-14T12:09:35.220404Z"
    },
    "papermill": {
     "duration": 0.037049,
     "end_time": "2023-03-14T12:09:35.224111",
     "exception": false,
     "start_time": "2023-03-14T12:09:35.187062",
     "status": "completed"
    },
    "tags": []
   },
   "outputs": [
    {
     "data": {
      "text/plain": [
       "<TakeDataset element_spec=({'input_ids': TensorSpec(shape=(8, 256), dtype=tf.float64, name=None), 'attention_mask': TensorSpec(shape=(8, 256), dtype=tf.float64, name=None)}, TensorSpec(shape=(8, 22), dtype=tf.float64, name=None))>"
      ]
     },
     "execution_count": 32,
     "metadata": {},
     "output_type": "execute_result"
    }
   ],
   "source": [
    "dataset.take(1)"
   ]
  },
  {
   "cell_type": "code",
   "execution_count": 33,
   "id": "31cf9f82",
   "metadata": {
    "execution": {
     "iopub.execute_input": "2023-03-14T12:09:35.278704Z",
     "iopub.status.busy": "2023-03-14T12:09:35.278339Z",
     "iopub.status.idle": "2023-03-14T12:09:35.282919Z",
     "shell.execute_reply": "2023-03-14T12:09:35.281584Z"
    },
    "papermill": {
     "duration": 0.039006,
     "end_time": "2023-03-14T12:09:35.285624",
     "exception": false,
     "start_time": "2023-03-14T12:09:35.246618",
     "status": "completed"
    },
    "tags": []
   },
   "outputs": [],
   "source": [
    "split = 0.9 \n",
    "\n",
    "size = int((num_samples / batch_size) * split)"
   ]
  },
  {
   "cell_type": "code",
   "execution_count": 34,
   "id": "91c8a7f9",
   "metadata": {
    "execution": {
     "iopub.execute_input": "2023-03-14T12:09:35.322811Z",
     "iopub.status.busy": "2023-03-14T12:09:35.322531Z",
     "iopub.status.idle": "2023-03-14T12:09:35.329694Z",
     "shell.execute_reply": "2023-03-14T12:09:35.328802Z"
    },
    "papermill": {
     "duration": 0.024593,
     "end_time": "2023-03-14T12:09:35.331803",
     "exception": false,
     "start_time": "2023-03-14T12:09:35.307210",
     "status": "completed"
    },
    "tags": []
   },
   "outputs": [],
   "source": [
    "train_ds = dataset.take(size)\n",
    "val_ds = dataset.skip(size)"
   ]
  },
  {
   "cell_type": "markdown",
   "id": "4bcad559",
   "metadata": {
    "papermill": {
     "duration": 0.014775,
     "end_time": "2023-03-14T12:09:35.361419",
     "exception": false,
     "start_time": "2023-03-14T12:09:35.346644",
     "status": "completed"
    },
    "tags": []
   },
   "source": [
    "## Training the Tranformer model\n",
    "---"
   ]
  },
  {
   "cell_type": "code",
   "execution_count": 35,
   "id": "d12cb9f7",
   "metadata": {
    "_kg_hide-output": true,
    "execution": {
     "iopub.execute_input": "2023-03-14T12:09:35.392563Z",
     "iopub.status.busy": "2023-03-14T12:09:35.392237Z",
     "iopub.status.idle": "2023-03-14T12:09:51.837601Z",
     "shell.execute_reply": "2023-03-14T12:09:51.836184Z"
    },
    "papermill": {
     "duration": 16.464155,
     "end_time": "2023-03-14T12:09:51.840442",
     "exception": false,
     "start_time": "2023-03-14T12:09:35.376287",
     "status": "completed"
    },
    "tags": []
   },
   "outputs": [
    {
     "data": {
      "application/vnd.jupyter.widget-view+json": {
       "model_id": "2862f77c838d434d95bd54ef74af6f39",
       "version_major": 2,
       "version_minor": 0
      },
      "text/plain": [
       "Downloading (…)\"tf_model.h5\";:   0%|          | 0.00/527M [00:00<?, ?B/s]"
      ]
     },
     "metadata": {},
     "output_type": "display_data"
    },
    {
     "name": "stderr",
     "output_type": "stream",
     "text": [
      "Some layers from the model checkpoint at bert-base-cased were not used when initializing TFBertModel: ['nsp___cls', 'mlm___cls']\n",
      "- This IS expected if you are initializing TFBertModel from the checkpoint of a model trained on another task or with another architecture (e.g. initializing a BertForSequenceClassification model from a BertForPreTraining model).\n",
      "- This IS NOT expected if you are initializing TFBertModel from the checkpoint of a model that you expect to be exactly identical (initializing a BertForSequenceClassification model from a BertForSequenceClassification model).\n",
      "All the layers of TFBertModel were initialized from the model checkpoint at bert-base-cased.\n",
      "If your task is similar to the task the model of the checkpoint was trained on, you can already use TFBertModel for predictions without further training.\n"
     ]
    }
   ],
   "source": [
    "from transformers import TFAutoModel\n",
    "\n",
    "bert = TFAutoModel.from_pretrained('bert-base-cased')"
   ]
  },
  {
   "cell_type": "code",
   "execution_count": 36,
   "id": "c07aea73",
   "metadata": {
    "execution": {
     "iopub.execute_input": "2023-03-14T12:09:51.874420Z",
     "iopub.status.busy": "2023-03-14T12:09:51.874116Z",
     "iopub.status.idle": "2023-03-14T12:09:51.907255Z",
     "shell.execute_reply": "2023-03-14T12:09:51.906023Z"
    },
    "papermill": {
     "duration": 0.053789,
     "end_time": "2023-03-14T12:09:51.911005",
     "exception": false,
     "start_time": "2023-03-14T12:09:51.857216",
     "status": "completed"
    },
    "tags": []
   },
   "outputs": [
    {
     "name": "stdout",
     "output_type": "stream",
     "text": [
      "Model: \"tf_bert_model\"\n",
      "_________________________________________________________________\n",
      " Layer (type)                Output Shape              Param #   \n",
      "=================================================================\n",
      " bert (TFBertMainLayer)      multiple                  108310272 \n",
      "                                                                 \n",
      "=================================================================\n",
      "Total params: 108,310,272\n",
      "Trainable params: 108,310,272\n",
      "Non-trainable params: 0\n",
      "_________________________________________________________________\n"
     ]
    }
   ],
   "source": [
    "bert.summary()"
   ]
  },
  {
   "cell_type": "code",
   "execution_count": 37,
   "id": "f84b4496",
   "metadata": {
    "execution": {
     "iopub.execute_input": "2023-03-14T12:09:51.944344Z",
     "iopub.status.busy": "2023-03-14T12:09:51.944051Z",
     "iopub.status.idle": "2023-03-14T12:09:57.643448Z",
     "shell.execute_reply": "2023-03-14T12:09:57.642335Z"
    },
    "papermill": {
     "duration": 5.718953,
     "end_time": "2023-03-14T12:09:57.646316",
     "exception": false,
     "start_time": "2023-03-14T12:09:51.927363",
     "status": "completed"
    },
    "tags": []
   },
   "outputs": [],
   "source": [
    "input_ids = tf.keras.layers.Input(shape= (seq_len,), name= 'input_ids', dtype='int32') #input layer for tokens\n",
    "mask = tf.keras.layers.Input(shape= (seq_len,), name= 'attention_mask', dtype='int32') #input layer for attention masks\n",
    "\n",
    "embeddings = bert.bert(input_ids, attention_mask= mask)[1]\n",
    "\n",
    "x = tf.keras.layers.Dense(1024, activation= 'relu')(embeddings)\n",
    "y = tf.keras.layers.Dense(arr.max()+1, activation= 'softmax', name= 'outputs')(x)"
   ]
  },
  {
   "cell_type": "code",
   "execution_count": 38,
   "id": "a15047d3",
   "metadata": {
    "execution": {
     "iopub.execute_input": "2023-03-14T12:09:57.681786Z",
     "iopub.status.busy": "2023-03-14T12:09:57.680849Z",
     "iopub.status.idle": "2023-03-14T12:09:57.689606Z",
     "shell.execute_reply": "2023-03-14T12:09:57.688683Z"
    },
    "papermill": {
     "duration": 0.028686,
     "end_time": "2023-03-14T12:09:57.691780",
     "exception": false,
     "start_time": "2023-03-14T12:09:57.663094",
     "status": "completed"
    },
    "tags": []
   },
   "outputs": [],
   "source": [
    "model = tf.keras.Model(inputs= [input_ids, mask], outputs = y)"
   ]
  },
  {
   "cell_type": "code",
   "execution_count": 39,
   "id": "34a83fec",
   "metadata": {
    "execution": {
     "iopub.execute_input": "2023-03-14T12:09:57.724231Z",
     "iopub.status.busy": "2023-03-14T12:09:57.723331Z",
     "iopub.status.idle": "2023-03-14T12:09:57.793679Z",
     "shell.execute_reply": "2023-03-14T12:09:57.791599Z"
    },
    "papermill": {
     "duration": 0.093511,
     "end_time": "2023-03-14T12:09:57.800438",
     "exception": false,
     "start_time": "2023-03-14T12:09:57.706927",
     "status": "completed"
    },
    "tags": []
   },
   "outputs": [
    {
     "name": "stdout",
     "output_type": "stream",
     "text": [
      "Model: \"model\"\n",
      "__________________________________________________________________________________________________\n",
      " Layer (type)                   Output Shape         Param #     Connected to                     \n",
      "==================================================================================================\n",
      " input_ids (InputLayer)         [(None, 256)]        0           []                               \n",
      "                                                                                                  \n",
      " attention_mask (InputLayer)    [(None, 256)]        0           []                               \n",
      "                                                                                                  \n",
      " bert (TFBertMainLayer)         TFBaseModelOutputWi  108310272   ['input_ids[0][0]',              \n",
      "                                thPoolingAndCrossAt               'attention_mask[0][0]']         \n",
      "                                tentions(last_hidde                                               \n",
      "                                n_state=(None, 256,                                               \n",
      "                                 768),                                                            \n",
      "                                 pooler_output=(Non                                               \n",
      "                                e, 768),                                                          \n",
      "                                 past_key_values=No                                               \n",
      "                                ne, hidden_states=N                                               \n",
      "                                one, attentions=Non                                               \n",
      "                                e, cross_attentions                                               \n",
      "                                =None)                                                            \n",
      "                                                                                                  \n",
      " dense (Dense)                  (None, 1024)         787456      ['bert[0][1]']                   \n",
      "                                                                                                  \n",
      " outputs (Dense)                (None, 22)           22550       ['dense[0][0]']                  \n",
      "                                                                                                  \n",
      "==================================================================================================\n",
      "Total params: 109,120,278\n",
      "Trainable params: 109,120,278\n",
      "Non-trainable params: 0\n",
      "__________________________________________________________________________________________________\n"
     ]
    }
   ],
   "source": [
    "model.summary()"
   ]
  },
  {
   "cell_type": "code",
   "execution_count": 40,
   "id": "350d8788",
   "metadata": {
    "execution": {
     "iopub.execute_input": "2023-03-14T12:09:57.837837Z",
     "iopub.status.busy": "2023-03-14T12:09:57.836892Z",
     "iopub.status.idle": "2023-03-14T12:09:57.849697Z",
     "shell.execute_reply": "2023-03-14T12:09:57.848795Z"
    },
    "papermill": {
     "duration": 0.032771,
     "end_time": "2023-03-14T12:09:57.851710",
     "exception": false,
     "start_time": "2023-03-14T12:09:57.818939",
     "status": "completed"
    },
    "tags": []
   },
   "outputs": [],
   "source": [
    "optimizer = tf.keras.optimizers.Adam(learning_rate= 1e-5)\n",
    "loss = tf.keras.losses.CategoricalCrossentropy()\n",
    "acc = tf.keras.metrics.CategoricalAccuracy('accuracy')"
   ]
  },
  {
   "cell_type": "code",
   "execution_count": 41,
   "id": "a0f5b277",
   "metadata": {
    "execution": {
     "iopub.execute_input": "2023-03-14T12:09:57.887436Z",
     "iopub.status.busy": "2023-03-14T12:09:57.886614Z",
     "iopub.status.idle": "2023-03-14T12:09:57.903464Z",
     "shell.execute_reply": "2023-03-14T12:09:57.902564Z"
    },
    "papermill": {
     "duration": 0.037068,
     "end_time": "2023-03-14T12:09:57.905580",
     "exception": false,
     "start_time": "2023-03-14T12:09:57.868512",
     "status": "completed"
    },
    "tags": []
   },
   "outputs": [],
   "source": [
    "model.compile(optimizer= optimizer, loss= loss, metrics = [acc])"
   ]
  },
  {
   "cell_type": "code",
   "execution_count": 42,
   "id": "d33d3d06",
   "metadata": {
    "execution": {
     "iopub.execute_input": "2023-03-14T12:09:57.941240Z",
     "iopub.status.busy": "2023-03-14T12:09:57.940395Z",
     "iopub.status.idle": "2023-03-14T12:12:13.119267Z",
     "shell.execute_reply": "2023-03-14T12:12:13.117942Z"
    },
    "papermill": {
     "duration": 135.20008,
     "end_time": "2023-03-14T12:12:13.122404",
     "exception": false,
     "start_time": "2023-03-14T12:09:57.922324",
     "status": "completed"
    },
    "tags": []
   },
   "outputs": [
    {
     "name": "stdout",
     "output_type": "stream",
     "text": [
      "Epoch 1/10\n",
      "19/19 [==============================] - 49s 524ms/step - loss: 3.3111 - accuracy: 0.0461 - val_loss: 2.9119 - val_accuracy: 0.1250\n",
      "Epoch 2/10\n",
      "19/19 [==============================] - 8s 416ms/step - loss: 3.0038 - accuracy: 0.0987 - val_loss: 2.6709 - val_accuracy: 0.3750\n",
      "Epoch 3/10\n",
      "19/19 [==============================] - 8s 399ms/step - loss: 2.7432 - accuracy: 0.3158 - val_loss: 2.6223 - val_accuracy: 0.4583\n",
      "Epoch 4/10\n",
      "19/19 [==============================] - 7s 395ms/step - loss: 2.5093 - accuracy: 0.4474 - val_loss: 2.0212 - val_accuracy: 0.7500\n",
      "Epoch 5/10\n",
      "19/19 [==============================] - 8s 397ms/step - loss: 2.1749 - accuracy: 0.6316 - val_loss: 1.8766 - val_accuracy: 0.7917\n",
      "Epoch 6/10\n",
      "19/19 [==============================] - 8s 399ms/step - loss: 1.8471 - accuracy: 0.7566 - val_loss: 1.8041 - val_accuracy: 0.7500\n",
      "Epoch 7/10\n",
      "19/19 [==============================] - 8s 404ms/step - loss: 1.6166 - accuracy: 0.8158 - val_loss: 1.1365 - val_accuracy: 0.9167\n",
      "Epoch 8/10\n",
      "19/19 [==============================] - 8s 404ms/step - loss: 1.3331 - accuracy: 0.8816 - val_loss: 1.1522 - val_accuracy: 0.9583\n",
      "Epoch 9/10\n",
      "19/19 [==============================] - 8s 404ms/step - loss: 1.1121 - accuracy: 0.9276 - val_loss: 1.0000 - val_accuracy: 0.9167\n",
      "Epoch 10/10\n",
      "19/19 [==============================] - 8s 407ms/step - loss: 0.9690 - accuracy: 0.9539 - val_loss: 0.8039 - val_accuracy: 1.0000\n",
      "CPU times: user 1min 36s, sys: 17.2 s, total: 1min 54s\n",
      "Wall time: 2min 15s\n"
     ]
    }
   ],
   "source": [
    "%%time\n",
    "history = model.fit(train_ds, validation_data= val_ds, epochs= 10)"
   ]
  },
  {
   "cell_type": "markdown",
   "id": "367bbc07",
   "metadata": {
    "papermill": {
     "duration": 0.028094,
     "end_time": "2023-03-14T12:12:13.179644",
     "exception": false,
     "start_time": "2023-03-14T12:12:13.151550",
     "status": "completed"
    },
    "tags": []
   },
   "source": [
    "## Saving the model\n",
    "---"
   ]
  },
  {
   "cell_type": "code",
   "execution_count": 43,
   "id": "c50db5a3",
   "metadata": {
    "execution": {
     "iopub.execute_input": "2023-03-14T12:12:13.238835Z",
     "iopub.status.busy": "2023-03-14T12:12:13.238496Z",
     "iopub.status.idle": "2023-03-14T12:12:16.040798Z",
     "shell.execute_reply": "2023-03-14T12:12:16.039405Z"
    },
    "papermill": {
     "duration": 2.847758,
     "end_time": "2023-03-14T12:12:16.056348",
     "exception": false,
     "start_time": "2023-03-14T12:12:13.208590",
     "status": "completed"
    },
    "tags": []
   },
   "outputs": [],
   "source": [
    "model.save('intent_prediction_model.h5')"
   ]
  },
  {
   "cell_type": "markdown",
   "id": "1e5a5fe6",
   "metadata": {
    "papermill": {
     "duration": 0.103503,
     "end_time": "2023-03-14T12:12:16.260317",
     "exception": false,
     "start_time": "2023-03-14T12:12:16.156814",
     "status": "completed"
    },
    "tags": []
   },
   "source": [
    "## Loding the model\n",
    "---"
   ]
  },
  {
   "cell_type": "code",
   "execution_count": 44,
   "id": "6d2f6352",
   "metadata": {
    "execution": {
     "iopub.execute_input": "2023-03-14T12:12:16.472930Z",
     "iopub.status.busy": "2023-03-14T12:12:16.472303Z",
     "iopub.status.idle": "2023-03-14T12:12:21.533611Z",
     "shell.execute_reply": "2023-03-14T12:12:21.532520Z"
    },
    "papermill": {
     "duration": 5.173009,
     "end_time": "2023-03-14T12:12:21.536212",
     "exception": false,
     "start_time": "2023-03-14T12:12:16.363203",
     "status": "completed"
    },
    "tags": []
   },
   "outputs": [],
   "source": [
    "loaded_model = tf.keras.models.load_model('intent_prediction_model.h5')"
   ]
  },
  {
   "cell_type": "code",
   "execution_count": 45,
   "id": "41039c8c",
   "metadata": {
    "execution": {
     "iopub.execute_input": "2023-03-14T12:12:21.605132Z",
     "iopub.status.busy": "2023-03-14T12:12:21.604020Z",
     "iopub.status.idle": "2023-03-14T12:12:21.667727Z",
     "shell.execute_reply": "2023-03-14T12:12:21.666665Z"
    },
    "papermill": {
     "duration": 0.105951,
     "end_time": "2023-03-14T12:12:21.672375",
     "exception": false,
     "start_time": "2023-03-14T12:12:21.566424",
     "status": "completed"
    },
    "tags": []
   },
   "outputs": [
    {
     "name": "stdout",
     "output_type": "stream",
     "text": [
      "Model: \"model\"\n",
      "__________________________________________________________________________________________________\n",
      " Layer (type)                   Output Shape         Param #     Connected to                     \n",
      "==================================================================================================\n",
      " input_ids (InputLayer)         [(None, 256)]        0           []                               \n",
      "                                                                                                  \n",
      " attention_mask (InputLayer)    [(None, 256)]        0           []                               \n",
      "                                                                                                  \n",
      " bert (TFBertMainLayer)         TFBaseModelOutputWi  108310272   ['input_ids[0][0]',              \n",
      "                                thPoolingAndCrossAt               'attention_mask[0][0]']         \n",
      "                                tentions(last_hidde                                               \n",
      "                                n_state=(None, 256,                                               \n",
      "                                 768),                                                            \n",
      "                                 pooler_output=(Non                                               \n",
      "                                e, 768),                                                          \n",
      "                                 past_key_values=No                                               \n",
      "                                ne, hidden_states=N                                               \n",
      "                                one, attentions=Non                                               \n",
      "                                e, cross_attentions                                               \n",
      "                                =None)                                                            \n",
      "                                                                                                  \n",
      " dense (Dense)                  (None, 1024)         787456      ['bert[0][1]']                   \n",
      "                                                                                                  \n",
      " outputs (Dense)                (None, 22)           22550       ['dense[0][0]']                  \n",
      "                                                                                                  \n",
      "==================================================================================================\n",
      "Total params: 109,120,278\n",
      "Trainable params: 109,120,278\n",
      "Non-trainable params: 0\n",
      "__________________________________________________________________________________________________\n"
     ]
    }
   ],
   "source": [
    "loaded_model.summary()"
   ]
  },
  {
   "cell_type": "code",
   "execution_count": 46,
   "id": "645d9d3f",
   "metadata": {
    "execution": {
     "iopub.execute_input": "2023-03-14T12:12:21.826110Z",
     "iopub.status.busy": "2023-03-14T12:12:21.825586Z",
     "iopub.status.idle": "2023-03-14T12:12:21.833509Z",
     "shell.execute_reply": "2023-03-14T12:12:21.832459Z"
    },
    "papermill": {
     "duration": 0.131216,
     "end_time": "2023-03-14T12:12:21.836609",
     "exception": false,
     "start_time": "2023-03-14T12:12:21.705393",
     "status": "completed"
    },
    "tags": []
   },
   "outputs": [
    {
     "data": {
      "text/plain": [
       "256"
      ]
     },
     "execution_count": 46,
     "metadata": {},
     "output_type": "execute_result"
    }
   ],
   "source": [
    "seq_len"
   ]
  },
  {
   "cell_type": "markdown",
   "id": "992b2937",
   "metadata": {
    "papermill": {
     "duration": 0.030346,
     "end_time": "2023-03-14T12:12:21.898874",
     "exception": false,
     "start_time": "2023-03-14T12:12:21.868528",
     "status": "completed"
    },
    "tags": []
   },
   "source": [
    "## Prediction\n",
    "---"
   ]
  },
  {
   "cell_type": "code",
   "execution_count": 47,
   "id": "12f42c28",
   "metadata": {
    "execution": {
     "iopub.execute_input": "2023-03-14T12:12:21.963845Z",
     "iopub.status.busy": "2023-03-14T12:12:21.963221Z",
     "iopub.status.idle": "2023-03-14T12:12:21.969418Z",
     "shell.execute_reply": "2023-03-14T12:12:21.968306Z"
    },
    "papermill": {
     "duration": 0.041824,
     "end_time": "2023-03-14T12:12:21.971717",
     "exception": false,
     "start_time": "2023-03-14T12:12:21.929893",
     "status": "completed"
    },
    "tags": []
   },
   "outputs": [],
   "source": [
    "def prep_data(text):\n",
    "    tokens = tokenizer.encode_plus(text, max_length = seq_len,\n",
    "                                  truncation= True, padding= 'max_length',\n",
    "                                  add_special_tokens = True,\n",
    "                                  return_tensors= 'tf')\n",
    "    return {\n",
    "        'input_ids' : tf.cast(tokens['input_ids'], tf.float64),\n",
    "        'attention_mask' : tf.cast(tokens['attention_mask'], tf.float64)\n",
    "    }"
   ]
  },
  {
   "cell_type": "code",
   "execution_count": 48,
   "id": "98dfc40a",
   "metadata": {
    "execution": {
     "iopub.execute_input": "2023-03-14T12:12:22.041501Z",
     "iopub.status.busy": "2023-03-14T12:12:22.040993Z",
     "iopub.status.idle": "2023-03-14T12:12:22.047947Z",
     "shell.execute_reply": "2023-03-14T12:12:22.046922Z"
    },
    "papermill": {
     "duration": 0.046515,
     "end_time": "2023-03-14T12:12:22.050147",
     "exception": false,
     "start_time": "2023-03-14T12:12:22.003632",
     "status": "completed"
    },
    "tags": []
   },
   "outputs": [],
   "source": [
    "def predict_res(text):\n",
    "    prep = prep_data(text)\n",
    "    prob = loaded_model.predict(prep)\n",
    "    res_dict = {0: 'Clever',\n",
    "                 1: 'CourtesyGoodBye',\n",
    "                 2: 'CourtesyGreeting',\n",
    "                 3: 'CourtesyGreetingResponse',\n",
    "                 4: 'CurrentHumanQuery',\n",
    "                 5: 'GoodBye',\n",
    "                 6: 'Gossip',\n",
    "                 7: 'Greeting',\n",
    "                 8: 'GreetingResponse',\n",
    "                 9: 'Jokes',\n",
    "                 10: 'NameQuery',\n",
    "                 11: 'NotTalking2U',\n",
    "                 12: 'PodBayDoor',\n",
    "                 13: 'PodBayDoorResponse',\n",
    "                 14: 'RealNameQuery',\n",
    "                 15: 'SelfAware',\n",
    "                 16: 'Shutup',\n",
    "                 17: 'Swearing',\n",
    "                 18: 'Thanks',\n",
    "                 19: 'TimeQuery',\n",
    "                 20: 'UnderstandQuery',\n",
    "                 21: 'WhoAmI'}\n",
    "    return res_dict[np.argmax(prob)]"
   ]
  },
  {
   "cell_type": "code",
   "execution_count": 49,
   "id": "4f6737c5",
   "metadata": {
    "execution": {
     "iopub.execute_input": "2023-03-14T12:12:22.112222Z",
     "iopub.status.busy": "2023-03-14T12:12:22.111369Z",
     "iopub.status.idle": "2023-03-14T12:12:22.117484Z",
     "shell.execute_reply": "2023-03-14T12:12:22.116590Z"
    },
    "papermill": {
     "duration": 0.038899,
     "end_time": "2023-03-14T12:12:22.119600",
     "exception": false,
     "start_time": "2023-03-14T12:12:22.080701",
     "status": "completed"
    },
    "tags": []
   },
   "outputs": [],
   "source": [
    "li = ['Clever', 'CourtesyGoodBye', 'CourtesyGreeting',\n",
    "       'CourtesyGreetingResponse', 'CurrentHumanQuery', 'GoodBye',\n",
    "       'Gossip', 'Greeting', 'GreetingResponse', 'Jokes', 'NameQuery',\n",
    "       'NotTalking2U', 'PodBayDoor', 'PodBayDoorResponse',\n",
    "       'RealNameQuery', 'SelfAware', 'Shutup', 'Swearing', 'Thanks',\n",
    "       'TimeQuery', 'UnderstandQuery', 'WhoAmI']\n",
    "\n",
    "di = {}\n",
    "\n",
    "for i,j in enumerate(li):\n",
    "    di.update({i:j})"
   ]
  },
  {
   "cell_type": "code",
   "execution_count": 50,
   "id": "538271f3",
   "metadata": {
    "execution": {
     "iopub.execute_input": "2023-03-14T12:12:22.181900Z",
     "iopub.status.busy": "2023-03-14T12:12:22.180947Z",
     "iopub.status.idle": "2023-03-14T12:12:22.188086Z",
     "shell.execute_reply": "2023-03-14T12:12:22.187100Z"
    },
    "papermill": {
     "duration": 0.041099,
     "end_time": "2023-03-14T12:12:22.190419",
     "exception": false,
     "start_time": "2023-03-14T12:12:22.149320",
     "status": "completed"
    },
    "tags": []
   },
   "outputs": [
    {
     "data": {
      "text/plain": [
       "{0: 'Clever',\n",
       " 1: 'CourtesyGoodBye',\n",
       " 2: 'CourtesyGreeting',\n",
       " 3: 'CourtesyGreetingResponse',\n",
       " 4: 'CurrentHumanQuery',\n",
       " 5: 'GoodBye',\n",
       " 6: 'Gossip',\n",
       " 7: 'Greeting',\n",
       " 8: 'GreetingResponse',\n",
       " 9: 'Jokes',\n",
       " 10: 'NameQuery',\n",
       " 11: 'NotTalking2U',\n",
       " 12: 'PodBayDoor',\n",
       " 13: 'PodBayDoorResponse',\n",
       " 14: 'RealNameQuery',\n",
       " 15: 'SelfAware',\n",
       " 16: 'Shutup',\n",
       " 17: 'Swearing',\n",
       " 18: 'Thanks',\n",
       " 19: 'TimeQuery',\n",
       " 20: 'UnderstandQuery',\n",
       " 21: 'WhoAmI'}"
      ]
     },
     "execution_count": 50,
     "metadata": {},
     "output_type": "execute_result"
    }
   ],
   "source": [
    "di"
   ]
  },
  {
   "cell_type": "code",
   "execution_count": 51,
   "id": "c29d1b8a",
   "metadata": {
    "execution": {
     "iopub.execute_input": "2023-03-14T12:12:22.255501Z",
     "iopub.status.busy": "2023-03-14T12:12:22.254942Z",
     "iopub.status.idle": "2023-03-14T12:12:25.392508Z",
     "shell.execute_reply": "2023-03-14T12:12:25.391395Z"
    },
    "papermill": {
     "duration": 3.173902,
     "end_time": "2023-03-14T12:12:25.395024",
     "exception": false,
     "start_time": "2023-03-14T12:12:22.221122",
     "status": "completed"
    },
    "tags": []
   },
   "outputs": [
    {
     "name": "stdout",
     "output_type": "stream",
     "text": [
      "1/1 [==============================] - 3s 3s/step\n"
     ]
    },
    {
     "data": {
      "text/plain": [
       "'CurrentHumanQuery'"
      ]
     },
     "execution_count": 51,
     "metadata": {},
     "output_type": "execute_result"
    }
   ],
   "source": [
    "predict_res(\"what are you doing?\")"
   ]
  },
  {
   "cell_type": "code",
   "execution_count": 52,
   "id": "5da34452",
   "metadata": {
    "execution": {
     "iopub.execute_input": "2023-03-14T12:12:25.464680Z",
     "iopub.status.busy": "2023-03-14T12:12:25.464316Z",
     "iopub.status.idle": "2023-03-14T12:12:25.594541Z",
     "shell.execute_reply": "2023-03-14T12:12:25.593395Z"
    },
    "papermill": {
     "duration": 0.167408,
     "end_time": "2023-03-14T12:12:25.596853",
     "exception": false,
     "start_time": "2023-03-14T12:12:25.429445",
     "status": "completed"
    },
    "tags": []
   },
   "outputs": [
    {
     "name": "stdout",
     "output_type": "stream",
     "text": [
      "1/1 [==============================] - 0s 72ms/step\n"
     ]
    },
    {
     "data": {
      "text/plain": [
       "'Greeting'"
      ]
     },
     "execution_count": 52,
     "metadata": {},
     "output_type": "execute_result"
    }
   ],
   "source": [
    "predict_res(\"Hi\")"
   ]
  },
  {
   "cell_type": "code",
   "execution_count": 53,
   "id": "2cb5eb72",
   "metadata": {
    "execution": {
     "iopub.execute_input": "2023-03-14T12:12:25.659551Z",
     "iopub.status.busy": "2023-03-14T12:12:25.659243Z",
     "iopub.status.idle": "2023-03-14T12:12:25.782689Z",
     "shell.execute_reply": "2023-03-14T12:12:25.781530Z"
    },
    "papermill": {
     "duration": 0.157087,
     "end_time": "2023-03-14T12:12:25.785407",
     "exception": false,
     "start_time": "2023-03-14T12:12:25.628320",
     "status": "completed"
    },
    "tags": []
   },
   "outputs": [
    {
     "name": "stdout",
     "output_type": "stream",
     "text": [
      "1/1 [==============================] - 0s 68ms/step\n"
     ]
    },
    {
     "data": {
      "text/plain": [
       "'Shutup'"
      ]
     },
     "execution_count": 53,
     "metadata": {},
     "output_type": "execute_result"
    }
   ],
   "source": [
    "predict_res(\"What is your product\")"
   ]
  },
  {
   "cell_type": "code",
   "execution_count": 54,
   "id": "78cfe432",
   "metadata": {
    "execution": {
     "iopub.execute_input": "2023-03-14T12:12:25.851843Z",
     "iopub.status.busy": "2023-03-14T12:12:25.851513Z",
     "iopub.status.idle": "2023-03-14T12:12:25.979055Z",
     "shell.execute_reply": "2023-03-14T12:12:25.978004Z"
    },
    "papermill": {
     "duration": 0.163082,
     "end_time": "2023-03-14T12:12:25.981403",
     "exception": false,
     "start_time": "2023-03-14T12:12:25.818321",
     "status": "completed"
    },
    "tags": []
   },
   "outputs": [
    {
     "name": "stdout",
     "output_type": "stream",
     "text": [
      "1/1 [==============================] - 0s 72ms/step\n"
     ]
    },
    {
     "data": {
      "text/plain": [
       "'UnderstandQuery'"
      ]
     },
     "execution_count": 54,
     "metadata": {},
     "output_type": "execute_result"
    }
   ],
   "source": [
    "predict_res(\"You know what\")"
   ]
  },
  {
   "cell_type": "code",
   "execution_count": 55,
   "id": "10fd05a1",
   "metadata": {
    "execution": {
     "iopub.execute_input": "2023-03-14T12:12:26.044605Z",
     "iopub.status.busy": "2023-03-14T12:12:26.044271Z",
     "iopub.status.idle": "2023-03-14T12:12:26.172055Z",
     "shell.execute_reply": "2023-03-14T12:12:26.171050Z"
    },
    "papermill": {
     "duration": 0.161339,
     "end_time": "2023-03-14T12:12:26.174195",
     "exception": false,
     "start_time": "2023-03-14T12:12:26.012856",
     "status": "completed"
    },
    "tags": []
   },
   "outputs": [
    {
     "name": "stdout",
     "output_type": "stream",
     "text": [
      "1/1 [==============================] - 0s 70ms/step\n"
     ]
    },
    {
     "data": {
      "text/plain": [
       "'NameQuery'"
      ]
     },
     "execution_count": 55,
     "metadata": {},
     "output_type": "execute_result"
    }
   ],
   "source": [
    "# NameQuery\n",
    "predict_res(\"What could I call you?\")"
   ]
  },
  {
   "cell_type": "code",
   "execution_count": 56,
   "id": "7a734551",
   "metadata": {
    "execution": {
     "iopub.execute_input": "2023-03-14T12:12:26.237578Z",
     "iopub.status.busy": "2023-03-14T12:12:26.237272Z",
     "iopub.status.idle": "2023-03-14T12:12:26.359955Z",
     "shell.execute_reply": "2023-03-14T12:12:26.359017Z"
    },
    "papermill": {
     "duration": 0.156514,
     "end_time": "2023-03-14T12:12:26.362043",
     "exception": false,
     "start_time": "2023-03-14T12:12:26.205529",
     "status": "completed"
    },
    "tags": []
   },
   "outputs": [
    {
     "name": "stdout",
     "output_type": "stream",
     "text": [
      "1/1 [==============================] - 0s 74ms/step\n"
     ]
    },
    {
     "data": {
      "text/plain": [
       "'Thanks'"
      ]
     },
     "execution_count": 56,
     "metadata": {},
     "output_type": "execute_result"
    }
   ],
   "source": [
    "# Thanks\n",
    "predict_res(\"OK thank you\")"
   ]
  },
  {
   "cell_type": "code",
   "execution_count": 57,
   "id": "38a0d58c",
   "metadata": {
    "execution": {
     "iopub.execute_input": "2023-03-14T12:12:26.425895Z",
     "iopub.status.busy": "2023-03-14T12:12:26.424936Z",
     "iopub.status.idle": "2023-03-14T12:12:26.550115Z",
     "shell.execute_reply": "2023-03-14T12:12:26.549118Z"
    },
    "papermill": {
     "duration": 0.159261,
     "end_time": "2023-03-14T12:12:26.552293",
     "exception": false,
     "start_time": "2023-03-14T12:12:26.393032",
     "status": "completed"
    },
    "tags": []
   },
   "outputs": [
    {
     "name": "stdout",
     "output_type": "stream",
     "text": [
      "1/1 [==============================] - 0s 75ms/step\n"
     ]
    },
    {
     "data": {
      "text/plain": [
       "'TimeQuery'"
      ]
     },
     "execution_count": 57,
     "metadata": {},
     "output_type": "execute_result"
    }
   ],
   "source": [
    "# TimeQuery\n",
    "predict_res(\"Tell me what time it is?\")"
   ]
  }
 ],
 "metadata": {
  "kernelspec": {
   "display_name": "Python 3",
   "language": "python",
   "name": "python3"
  },
  "language_info": {
   "codemirror_mode": {
    "name": "ipython",
    "version": 3
   },
   "file_extension": ".py",
   "mimetype": "text/x-python",
   "name": "python",
   "nbconvert_exporter": "python",
   "pygments_lexer": "ipython3",
   "version": "3.7.12"
  },
  "papermill": {
   "default_parameters": {},
   "duration": 212.129442,
   "end_time": "2023-03-14T12:12:29.964581",
   "environment_variables": {},
   "exception": null,
   "input_path": "__notebook__.ipynb",
   "output_path": "__notebook__.ipynb",
   "parameters": {},
   "start_time": "2023-03-14T12:08:57.835139",
   "version": "2.4.0"
  },
  "widgets": {
   "application/vnd.jupyter.widget-state+json": {
    "state": {
     "0083db50c7ed4f44ade011bb662a4b05": {
      "model_module": "@jupyter-widgets/controls",
      "model_module_version": "1.5.0",
      "model_name": "HTMLModel",
      "state": {
       "_dom_classes": [],
       "_model_module": "@jupyter-widgets/controls",
       "_model_module_version": "1.5.0",
       "_model_name": "HTMLModel",
       "_view_count": null,
       "_view_module": "@jupyter-widgets/controls",
       "_view_module_version": "1.5.0",
       "_view_name": "HTMLView",
       "description": "",
       "description_tooltip": null,
       "layout": "IPY_MODEL_95cd76b252ca45089f434695b26410aa",
       "placeholder": "​",
       "style": "IPY_MODEL_30c14c81dbf5478d9ef2e2814786debd",
       "value": " 570/570 [00:00&lt;00:00, 30.0kB/s]"
      }
     },
     "03bc1c26f73e43c688bf6130f78be5d1": {
      "model_module": "@jupyter-widgets/controls",
      "model_module_version": "1.5.0",
      "model_name": "DescriptionStyleModel",
      "state": {
       "_model_module": "@jupyter-widgets/controls",
       "_model_module_version": "1.5.0",
       "_model_name": "DescriptionStyleModel",
       "_view_count": null,
       "_view_module": "@jupyter-widgets/base",
       "_view_module_version": "1.2.0",
       "_view_name": "StyleView",
       "description_width": ""
      }
     },
     "04bd661deeb246069a74575a60606bf3": {
      "model_module": "@jupyter-widgets/controls",
      "model_module_version": "1.5.0",
      "model_name": "HBoxModel",
      "state": {
       "_dom_classes": [],
       "_model_module": "@jupyter-widgets/controls",
       "_model_module_version": "1.5.0",
       "_model_name": "HBoxModel",
       "_view_count": null,
       "_view_module": "@jupyter-widgets/controls",
       "_view_module_version": "1.5.0",
       "_view_name": "HBoxView",
       "box_style": "",
       "children": [
        "IPY_MODEL_5cb8d7c6fa914d86b107d0b6dbee5627",
        "IPY_MODEL_8572e4bae80448e7a18923fe0e17023a",
        "IPY_MODEL_b58897451eea426791934fffaa0e3aa4"
       ],
       "layout": "IPY_MODEL_f94bf16b25624635ab52ee4518949d8c"
      }
     },
     "0e7b590ee0f44bfcb5c7c70709830051": {
      "model_module": "@jupyter-widgets/controls",
      "model_module_version": "1.5.0",
      "model_name": "DescriptionStyleModel",
      "state": {
       "_model_module": "@jupyter-widgets/controls",
       "_model_module_version": "1.5.0",
       "_model_name": "DescriptionStyleModel",
       "_view_count": null,
       "_view_module": "@jupyter-widgets/base",
       "_view_module_version": "1.2.0",
       "_view_name": "StyleView",
       "description_width": ""
      }
     },
     "10c36eea6ad849519f8a04a74d4366ba": {
      "model_module": "@jupyter-widgets/base",
      "model_module_version": "1.2.0",
      "model_name": "LayoutModel",
      "state": {
       "_model_module": "@jupyter-widgets/base",
       "_model_module_version": "1.2.0",
       "_model_name": "LayoutModel",
       "_view_count": null,
       "_view_module": "@jupyter-widgets/base",
       "_view_module_version": "1.2.0",
       "_view_name": "LayoutView",
       "align_content": null,
       "align_items": null,
       "align_self": null,
       "border": null,
       "bottom": null,
       "display": null,
       "flex": null,
       "flex_flow": null,
       "grid_area": null,
       "grid_auto_columns": null,
       "grid_auto_flow": null,
       "grid_auto_rows": null,
       "grid_column": null,
       "grid_gap": null,
       "grid_row": null,
       "grid_template_areas": null,
       "grid_template_columns": null,
       "grid_template_rows": null,
       "height": null,
       "justify_content": null,
       "justify_items": null,
       "left": null,
       "margin": null,
       "max_height": null,
       "max_width": null,
       "min_height": null,
       "min_width": null,
       "object_fit": null,
       "object_position": null,
       "order": null,
       "overflow": null,
       "overflow_x": null,
       "overflow_y": null,
       "padding": null,
       "right": null,
       "top": null,
       "visibility": null,
       "width": null
      }
     },
     "14d8124a29f5488ea8a04fac0475211e": {
      "model_module": "@jupyter-widgets/base",
      "model_module_version": "1.2.0",
      "model_name": "LayoutModel",
      "state": {
       "_model_module": "@jupyter-widgets/base",
       "_model_module_version": "1.2.0",
       "_model_name": "LayoutModel",
       "_view_count": null,
       "_view_module": "@jupyter-widgets/base",
       "_view_module_version": "1.2.0",
       "_view_name": "LayoutView",
       "align_content": null,
       "align_items": null,
       "align_self": null,
       "border": null,
       "bottom": null,
       "display": null,
       "flex": null,
       "flex_flow": null,
       "grid_area": null,
       "grid_auto_columns": null,
       "grid_auto_flow": null,
       "grid_auto_rows": null,
       "grid_column": null,
       "grid_gap": null,
       "grid_row": null,
       "grid_template_areas": null,
       "grid_template_columns": null,
       "grid_template_rows": null,
       "height": null,
       "justify_content": null,
       "justify_items": null,
       "left": null,
       "margin": null,
       "max_height": null,
       "max_width": null,
       "min_height": null,
       "min_width": null,
       "object_fit": null,
       "object_position": null,
       "order": null,
       "overflow": null,
       "overflow_x": null,
       "overflow_y": null,
       "padding": null,
       "right": null,
       "top": null,
       "visibility": null,
       "width": null
      }
     },
     "21d20d5dfbe44db1b36aaaf14b883b3e": {
      "model_module": "@jupyter-widgets/base",
      "model_module_version": "1.2.0",
      "model_name": "LayoutModel",
      "state": {
       "_model_module": "@jupyter-widgets/base",
       "_model_module_version": "1.2.0",
       "_model_name": "LayoutModel",
       "_view_count": null,
       "_view_module": "@jupyter-widgets/base",
       "_view_module_version": "1.2.0",
       "_view_name": "LayoutView",
       "align_content": null,
       "align_items": null,
       "align_self": null,
       "border": null,
       "bottom": null,
       "display": null,
       "flex": null,
       "flex_flow": null,
       "grid_area": null,
       "grid_auto_columns": null,
       "grid_auto_flow": null,
       "grid_auto_rows": null,
       "grid_column": null,
       "grid_gap": null,
       "grid_row": null,
       "grid_template_areas": null,
       "grid_template_columns": null,
       "grid_template_rows": null,
       "height": null,
       "justify_content": null,
       "justify_items": null,
       "left": null,
       "margin": null,
       "max_height": null,
       "max_width": null,
       "min_height": null,
       "min_width": null,
       "object_fit": null,
       "object_position": null,
       "order": null,
       "overflow": null,
       "overflow_x": null,
       "overflow_y": null,
       "padding": null,
       "right": null,
       "top": null,
       "visibility": null,
       "width": null
      }
     },
     "256ae94ef7d848689a42119e4715906a": {
      "model_module": "@jupyter-widgets/base",
      "model_module_version": "1.2.0",
      "model_name": "LayoutModel",
      "state": {
       "_model_module": "@jupyter-widgets/base",
       "_model_module_version": "1.2.0",
       "_model_name": "LayoutModel",
       "_view_count": null,
       "_view_module": "@jupyter-widgets/base",
       "_view_module_version": "1.2.0",
       "_view_name": "LayoutView",
       "align_content": null,
       "align_items": null,
       "align_self": null,
       "border": null,
       "bottom": null,
       "display": null,
       "flex": null,
       "flex_flow": null,
       "grid_area": null,
       "grid_auto_columns": null,
       "grid_auto_flow": null,
       "grid_auto_rows": null,
       "grid_column": null,
       "grid_gap": null,
       "grid_row": null,
       "grid_template_areas": null,
       "grid_template_columns": null,
       "grid_template_rows": null,
       "height": null,
       "justify_content": null,
       "justify_items": null,
       "left": null,
       "margin": null,
       "max_height": null,
       "max_width": null,
       "min_height": null,
       "min_width": null,
       "object_fit": null,
       "object_position": null,
       "order": null,
       "overflow": null,
       "overflow_x": null,
       "overflow_y": null,
       "padding": null,
       "right": null,
       "top": null,
       "visibility": null,
       "width": null
      }
     },
     "2862f77c838d434d95bd54ef74af6f39": {
      "model_module": "@jupyter-widgets/controls",
      "model_module_version": "1.5.0",
      "model_name": "HBoxModel",
      "state": {
       "_dom_classes": [],
       "_model_module": "@jupyter-widgets/controls",
       "_model_module_version": "1.5.0",
       "_model_name": "HBoxModel",
       "_view_count": null,
       "_view_module": "@jupyter-widgets/controls",
       "_view_module_version": "1.5.0",
       "_view_name": "HBoxView",
       "box_style": "",
       "children": [
        "IPY_MODEL_f8c8a29a9f2f402ba2a0784432cdb4cc",
        "IPY_MODEL_e9c5ec024aea450cb0cfa2f0fd97c516",
        "IPY_MODEL_fa2be176bbbd4a5c832bd5476afb6eb7"
       ],
       "layout": "IPY_MODEL_51fa6fec54524390a8531406da4b71a1"
      }
     },
     "30c14c81dbf5478d9ef2e2814786debd": {
      "model_module": "@jupyter-widgets/controls",
      "model_module_version": "1.5.0",
      "model_name": "DescriptionStyleModel",
      "state": {
       "_model_module": "@jupyter-widgets/controls",
       "_model_module_version": "1.5.0",
       "_model_name": "DescriptionStyleModel",
       "_view_count": null,
       "_view_module": "@jupyter-widgets/base",
       "_view_module_version": "1.2.0",
       "_view_name": "StyleView",
       "description_width": ""
      }
     },
     "35f814f5dfdf4402b3ec2e1f563ed99f": {
      "model_module": "@jupyter-widgets/base",
      "model_module_version": "1.2.0",
      "model_name": "LayoutModel",
      "state": {
       "_model_module": "@jupyter-widgets/base",
       "_model_module_version": "1.2.0",
       "_model_name": "LayoutModel",
       "_view_count": null,
       "_view_module": "@jupyter-widgets/base",
       "_view_module_version": "1.2.0",
       "_view_name": "LayoutView",
       "align_content": null,
       "align_items": null,
       "align_self": null,
       "border": null,
       "bottom": null,
       "display": null,
       "flex": null,
       "flex_flow": null,
       "grid_area": null,
       "grid_auto_columns": null,
       "grid_auto_flow": null,
       "grid_auto_rows": null,
       "grid_column": null,
       "grid_gap": null,
       "grid_row": null,
       "grid_template_areas": null,
       "grid_template_columns": null,
       "grid_template_rows": null,
       "height": null,
       "justify_content": null,
       "justify_items": null,
       "left": null,
       "margin": null,
       "max_height": null,
       "max_width": null,
       "min_height": null,
       "min_width": null,
       "object_fit": null,
       "object_position": null,
       "order": null,
       "overflow": null,
       "overflow_x": null,
       "overflow_y": null,
       "padding": null,
       "right": null,
       "top": null,
       "visibility": null,
       "width": null
      }
     },
     "3ce7225f993f4a85a7ee248632e7715e": {
      "model_module": "@jupyter-widgets/controls",
      "model_module_version": "1.5.0",
      "model_name": "HTMLModel",
      "state": {
       "_dom_classes": [],
       "_model_module": "@jupyter-widgets/controls",
       "_model_module_version": "1.5.0",
       "_model_name": "HTMLModel",
       "_view_count": null,
       "_view_module": "@jupyter-widgets/controls",
       "_view_module_version": "1.5.0",
       "_view_name": "HTMLView",
       "description": "",
       "description_tooltip": null,
       "layout": "IPY_MODEL_35f814f5dfdf4402b3ec2e1f563ed99f",
       "placeholder": "​",
       "style": "IPY_MODEL_f08a073e0e1c4ae3aa0ec90f26b84692",
       "value": "Downloading (…)solve/main/vocab.txt: 100%"
      }
     },
     "4bdd8f12827a4881b47756adece2ce93": {
      "model_module": "@jupyter-widgets/base",
      "model_module_version": "1.2.0",
      "model_name": "LayoutModel",
      "state": {
       "_model_module": "@jupyter-widgets/base",
       "_model_module_version": "1.2.0",
       "_model_name": "LayoutModel",
       "_view_count": null,
       "_view_module": "@jupyter-widgets/base",
       "_view_module_version": "1.2.0",
       "_view_name": "LayoutView",
       "align_content": null,
       "align_items": null,
       "align_self": null,
       "border": null,
       "bottom": null,
       "display": null,
       "flex": null,
       "flex_flow": null,
       "grid_area": null,
       "grid_auto_columns": null,
       "grid_auto_flow": null,
       "grid_auto_rows": null,
       "grid_column": null,
       "grid_gap": null,
       "grid_row": null,
       "grid_template_areas": null,
       "grid_template_columns": null,
       "grid_template_rows": null,
       "height": null,
       "justify_content": null,
       "justify_items": null,
       "left": null,
       "margin": null,
       "max_height": null,
       "max_width": null,
       "min_height": null,
       "min_width": null,
       "object_fit": null,
       "object_position": null,
       "order": null,
       "overflow": null,
       "overflow_x": null,
       "overflow_y": null,
       "padding": null,
       "right": null,
       "top": null,
       "visibility": null,
       "width": null
      }
     },
     "51fa6fec54524390a8531406da4b71a1": {
      "model_module": "@jupyter-widgets/base",
      "model_module_version": "1.2.0",
      "model_name": "LayoutModel",
      "state": {
       "_model_module": "@jupyter-widgets/base",
       "_model_module_version": "1.2.0",
       "_model_name": "LayoutModel",
       "_view_count": null,
       "_view_module": "@jupyter-widgets/base",
       "_view_module_version": "1.2.0",
       "_view_name": "LayoutView",
       "align_content": null,
       "align_items": null,
       "align_self": null,
       "border": null,
       "bottom": null,
       "display": null,
       "flex": null,
       "flex_flow": null,
       "grid_area": null,
       "grid_auto_columns": null,
       "grid_auto_flow": null,
       "grid_auto_rows": null,
       "grid_column": null,
       "grid_gap": null,
       "grid_row": null,
       "grid_template_areas": null,
       "grid_template_columns": null,
       "grid_template_rows": null,
       "height": null,
       "justify_content": null,
       "justify_items": null,
       "left": null,
       "margin": null,
       "max_height": null,
       "max_width": null,
       "min_height": null,
       "min_width": null,
       "object_fit": null,
       "object_position": null,
       "order": null,
       "overflow": null,
       "overflow_x": null,
       "overflow_y": null,
       "padding": null,
       "right": null,
       "top": null,
       "visibility": null,
       "width": null
      }
     },
     "5a9625d5aafe43b5b4a00ddd21dad15d": {
      "model_module": "@jupyter-widgets/controls",
      "model_module_version": "1.5.0",
      "model_name": "DescriptionStyleModel",
      "state": {
       "_model_module": "@jupyter-widgets/controls",
       "_model_module_version": "1.5.0",
       "_model_name": "DescriptionStyleModel",
       "_view_count": null,
       "_view_module": "@jupyter-widgets/base",
       "_view_module_version": "1.2.0",
       "_view_name": "StyleView",
       "description_width": ""
      }
     },
     "5cb8d7c6fa914d86b107d0b6dbee5627": {
      "model_module": "@jupyter-widgets/controls",
      "model_module_version": "1.5.0",
      "model_name": "HTMLModel",
      "state": {
       "_dom_classes": [],
       "_model_module": "@jupyter-widgets/controls",
       "_model_module_version": "1.5.0",
       "_model_name": "HTMLModel",
       "_view_count": null,
       "_view_module": "@jupyter-widgets/controls",
       "_view_module_version": "1.5.0",
       "_view_name": "HTMLView",
       "description": "",
       "description_tooltip": null,
       "layout": "IPY_MODEL_9ed927a44af241838bb68bd24f013e6c",
       "placeholder": "​",
       "style": "IPY_MODEL_0e7b590ee0f44bfcb5c7c70709830051",
       "value": "Downloading (…)okenizer_config.json: 100%"
      }
     },
     "6aacbc4f386f4797a119c624a25c59e2": {
      "model_module": "@jupyter-widgets/base",
      "model_module_version": "1.2.0",
      "model_name": "LayoutModel",
      "state": {
       "_model_module": "@jupyter-widgets/base",
       "_model_module_version": "1.2.0",
       "_model_name": "LayoutModel",
       "_view_count": null,
       "_view_module": "@jupyter-widgets/base",
       "_view_module_version": "1.2.0",
       "_view_name": "LayoutView",
       "align_content": null,
       "align_items": null,
       "align_self": null,
       "border": null,
       "bottom": null,
       "display": null,
       "flex": null,
       "flex_flow": null,
       "grid_area": null,
       "grid_auto_columns": null,
       "grid_auto_flow": null,
       "grid_auto_rows": null,
       "grid_column": null,
       "grid_gap": null,
       "grid_row": null,
       "grid_template_areas": null,
       "grid_template_columns": null,
       "grid_template_rows": null,
       "height": null,
       "justify_content": null,
       "justify_items": null,
       "left": null,
       "margin": null,
       "max_height": null,
       "max_width": null,
       "min_height": null,
       "min_width": null,
       "object_fit": null,
       "object_position": null,
       "order": null,
       "overflow": null,
       "overflow_x": null,
       "overflow_y": null,
       "padding": null,
       "right": null,
       "top": null,
       "visibility": null,
       "width": null
      }
     },
     "6d3f15edac434e8298552abaf3a09959": {
      "model_module": "@jupyter-widgets/base",
      "model_module_version": "1.2.0",
      "model_name": "LayoutModel",
      "state": {
       "_model_module": "@jupyter-widgets/base",
       "_model_module_version": "1.2.0",
       "_model_name": "LayoutModel",
       "_view_count": null,
       "_view_module": "@jupyter-widgets/base",
       "_view_module_version": "1.2.0",
       "_view_name": "LayoutView",
       "align_content": null,
       "align_items": null,
       "align_self": null,
       "border": null,
       "bottom": null,
       "display": null,
       "flex": null,
       "flex_flow": null,
       "grid_area": null,
       "grid_auto_columns": null,
       "grid_auto_flow": null,
       "grid_auto_rows": null,
       "grid_column": null,
       "grid_gap": null,
       "grid_row": null,
       "grid_template_areas": null,
       "grid_template_columns": null,
       "grid_template_rows": null,
       "height": null,
       "justify_content": null,
       "justify_items": null,
       "left": null,
       "margin": null,
       "max_height": null,
       "max_width": null,
       "min_height": null,
       "min_width": null,
       "object_fit": null,
       "object_position": null,
       "order": null,
       "overflow": null,
       "overflow_x": null,
       "overflow_y": null,
       "padding": null,
       "right": null,
       "top": null,
       "visibility": null,
       "width": null
      }
     },
     "78c918d935af4fa2a168cf533fac6bba": {
      "model_module": "@jupyter-widgets/controls",
      "model_module_version": "1.5.0",
      "model_name": "ProgressStyleModel",
      "state": {
       "_model_module": "@jupyter-widgets/controls",
       "_model_module_version": "1.5.0",
       "_model_name": "ProgressStyleModel",
       "_view_count": null,
       "_view_module": "@jupyter-widgets/base",
       "_view_module_version": "1.2.0",
       "_view_name": "StyleView",
       "bar_color": null,
       "description_width": ""
      }
     },
     "79167c9af469474d8f4b80dbf8273b62": {
      "model_module": "@jupyter-widgets/controls",
      "model_module_version": "1.5.0",
      "model_name": "HBoxModel",
      "state": {
       "_dom_classes": [],
       "_model_module": "@jupyter-widgets/controls",
       "_model_module_version": "1.5.0",
       "_model_name": "HBoxModel",
       "_view_count": null,
       "_view_module": "@jupyter-widgets/controls",
       "_view_module_version": "1.5.0",
       "_view_name": "HBoxView",
       "box_style": "",
       "children": [
        "IPY_MODEL_e2860361f17c49d59b6733ac968b2431",
        "IPY_MODEL_d9ce324a4f46440191ead3e763fb4db2",
        "IPY_MODEL_0083db50c7ed4f44ade011bb662a4b05"
       ],
       "layout": "IPY_MODEL_256ae94ef7d848689a42119e4715906a"
      }
     },
     "8572e4bae80448e7a18923fe0e17023a": {
      "model_module": "@jupyter-widgets/controls",
      "model_module_version": "1.5.0",
      "model_name": "FloatProgressModel",
      "state": {
       "_dom_classes": [],
       "_model_module": "@jupyter-widgets/controls",
       "_model_module_version": "1.5.0",
       "_model_name": "FloatProgressModel",
       "_view_count": null,
       "_view_module": "@jupyter-widgets/controls",
       "_view_module_version": "1.5.0",
       "_view_name": "ProgressView",
       "bar_style": "success",
       "description": "",
       "description_tooltip": null,
       "layout": "IPY_MODEL_a51b3e42268348b0a5a7d87f8a995f86",
       "max": 29.0,
       "min": 0.0,
       "orientation": "horizontal",
       "style": "IPY_MODEL_fa71a67ca4754740bca0e66871733488",
       "value": 29.0
      }
     },
     "8a62514e8d9c49c2afb44d9a8bb4e7ca": {
      "model_module": "@jupyter-widgets/base",
      "model_module_version": "1.2.0",
      "model_name": "LayoutModel",
      "state": {
       "_model_module": "@jupyter-widgets/base",
       "_model_module_version": "1.2.0",
       "_model_name": "LayoutModel",
       "_view_count": null,
       "_view_module": "@jupyter-widgets/base",
       "_view_module_version": "1.2.0",
       "_view_name": "LayoutView",
       "align_content": null,
       "align_items": null,
       "align_self": null,
       "border": null,
       "bottom": null,
       "display": null,
       "flex": null,
       "flex_flow": null,
       "grid_area": null,
       "grid_auto_columns": null,
       "grid_auto_flow": null,
       "grid_auto_rows": null,
       "grid_column": null,
       "grid_gap": null,
       "grid_row": null,
       "grid_template_areas": null,
       "grid_template_columns": null,
       "grid_template_rows": null,
       "height": null,
       "justify_content": null,
       "justify_items": null,
       "left": null,
       "margin": null,
       "max_height": null,
       "max_width": null,
       "min_height": null,
       "min_width": null,
       "object_fit": null,
       "object_position": null,
       "order": null,
       "overflow": null,
       "overflow_x": null,
       "overflow_y": null,
       "padding": null,
       "right": null,
       "top": null,
       "visibility": null,
       "width": null
      }
     },
     "934700fd373c4c1ca52f7fb5edce05e9": {
      "model_module": "@jupyter-widgets/controls",
      "model_module_version": "1.5.0",
      "model_name": "DescriptionStyleModel",
      "state": {
       "_model_module": "@jupyter-widgets/controls",
       "_model_module_version": "1.5.0",
       "_model_name": "DescriptionStyleModel",
       "_view_count": null,
       "_view_module": "@jupyter-widgets/base",
       "_view_module_version": "1.2.0",
       "_view_name": "StyleView",
       "description_width": ""
      }
     },
     "95cd76b252ca45089f434695b26410aa": {
      "model_module": "@jupyter-widgets/base",
      "model_module_version": "1.2.0",
      "model_name": "LayoutModel",
      "state": {
       "_model_module": "@jupyter-widgets/base",
       "_model_module_version": "1.2.0",
       "_model_name": "LayoutModel",
       "_view_count": null,
       "_view_module": "@jupyter-widgets/base",
       "_view_module_version": "1.2.0",
       "_view_name": "LayoutView",
       "align_content": null,
       "align_items": null,
       "align_self": null,
       "border": null,
       "bottom": null,
       "display": null,
       "flex": null,
       "flex_flow": null,
       "grid_area": null,
       "grid_auto_columns": null,
       "grid_auto_flow": null,
       "grid_auto_rows": null,
       "grid_column": null,
       "grid_gap": null,
       "grid_row": null,
       "grid_template_areas": null,
       "grid_template_columns": null,
       "grid_template_rows": null,
       "height": null,
       "justify_content": null,
       "justify_items": null,
       "left": null,
       "margin": null,
       "max_height": null,
       "max_width": null,
       "min_height": null,
       "min_width": null,
       "object_fit": null,
       "object_position": null,
       "order": null,
       "overflow": null,
       "overflow_x": null,
       "overflow_y": null,
       "padding": null,
       "right": null,
       "top": null,
       "visibility": null,
       "width": null
      }
     },
     "9ed927a44af241838bb68bd24f013e6c": {
      "model_module": "@jupyter-widgets/base",
      "model_module_version": "1.2.0",
      "model_name": "LayoutModel",
      "state": {
       "_model_module": "@jupyter-widgets/base",
       "_model_module_version": "1.2.0",
       "_model_name": "LayoutModel",
       "_view_count": null,
       "_view_module": "@jupyter-widgets/base",
       "_view_module_version": "1.2.0",
       "_view_name": "LayoutView",
       "align_content": null,
       "align_items": null,
       "align_self": null,
       "border": null,
       "bottom": null,
       "display": null,
       "flex": null,
       "flex_flow": null,
       "grid_area": null,
       "grid_auto_columns": null,
       "grid_auto_flow": null,
       "grid_auto_rows": null,
       "grid_column": null,
       "grid_gap": null,
       "grid_row": null,
       "grid_template_areas": null,
       "grid_template_columns": null,
       "grid_template_rows": null,
       "height": null,
       "justify_content": null,
       "justify_items": null,
       "left": null,
       "margin": null,
       "max_height": null,
       "max_width": null,
       "min_height": null,
       "min_width": null,
       "object_fit": null,
       "object_position": null,
       "order": null,
       "overflow": null,
       "overflow_x": null,
       "overflow_y": null,
       "padding": null,
       "right": null,
       "top": null,
       "visibility": null,
       "width": null
      }
     },
     "a0efdff8ccaa459aac2e1b69d32ad5a5": {
      "model_module": "@jupyter-widgets/controls",
      "model_module_version": "1.5.0",
      "model_name": "FloatProgressModel",
      "state": {
       "_dom_classes": [],
       "_model_module": "@jupyter-widgets/controls",
       "_model_module_version": "1.5.0",
       "_model_name": "FloatProgressModel",
       "_view_count": null,
       "_view_module": "@jupyter-widgets/controls",
       "_view_module_version": "1.5.0",
       "_view_name": "ProgressView",
       "bar_style": "success",
       "description": "",
       "description_tooltip": null,
       "layout": "IPY_MODEL_4bdd8f12827a4881b47756adece2ce93",
       "max": 213450.0,
       "min": 0.0,
       "orientation": "horizontal",
       "style": "IPY_MODEL_d7cfaec8fef1455daabbc11d943faf1f",
       "value": 213450.0
      }
     },
     "a437f410d006428ab75ecee9dbfd838d": {
      "model_module": "@jupyter-widgets/base",
      "model_module_version": "1.2.0",
      "model_name": "LayoutModel",
      "state": {
       "_model_module": "@jupyter-widgets/base",
       "_model_module_version": "1.2.0",
       "_model_name": "LayoutModel",
       "_view_count": null,
       "_view_module": "@jupyter-widgets/base",
       "_view_module_version": "1.2.0",
       "_view_name": "LayoutView",
       "align_content": null,
       "align_items": null,
       "align_self": null,
       "border": null,
       "bottom": null,
       "display": null,
       "flex": null,
       "flex_flow": null,
       "grid_area": null,
       "grid_auto_columns": null,
       "grid_auto_flow": null,
       "grid_auto_rows": null,
       "grid_column": null,
       "grid_gap": null,
       "grid_row": null,
       "grid_template_areas": null,
       "grid_template_columns": null,
       "grid_template_rows": null,
       "height": null,
       "justify_content": null,
       "justify_items": null,
       "left": null,
       "margin": null,
       "max_height": null,
       "max_width": null,
       "min_height": null,
       "min_width": null,
       "object_fit": null,
       "object_position": null,
       "order": null,
       "overflow": null,
       "overflow_x": null,
       "overflow_y": null,
       "padding": null,
       "right": null,
       "top": null,
       "visibility": null,
       "width": null
      }
     },
     "a51b3e42268348b0a5a7d87f8a995f86": {
      "model_module": "@jupyter-widgets/base",
      "model_module_version": "1.2.0",
      "model_name": "LayoutModel",
      "state": {
       "_model_module": "@jupyter-widgets/base",
       "_model_module_version": "1.2.0",
       "_model_name": "LayoutModel",
       "_view_count": null,
       "_view_module": "@jupyter-widgets/base",
       "_view_module_version": "1.2.0",
       "_view_name": "LayoutView",
       "align_content": null,
       "align_items": null,
       "align_self": null,
       "border": null,
       "bottom": null,
       "display": null,
       "flex": null,
       "flex_flow": null,
       "grid_area": null,
       "grid_auto_columns": null,
       "grid_auto_flow": null,
       "grid_auto_rows": null,
       "grid_column": null,
       "grid_gap": null,
       "grid_row": null,
       "grid_template_areas": null,
       "grid_template_columns": null,
       "grid_template_rows": null,
       "height": null,
       "justify_content": null,
       "justify_items": null,
       "left": null,
       "margin": null,
       "max_height": null,
       "max_width": null,
       "min_height": null,
       "min_width": null,
       "object_fit": null,
       "object_position": null,
       "order": null,
       "overflow": null,
       "overflow_x": null,
       "overflow_y": null,
       "padding": null,
       "right": null,
       "top": null,
       "visibility": null,
       "width": null
      }
     },
     "add3fe73e9ed4df5b6c54bcfe46e5464": {
      "model_module": "@jupyter-widgets/base",
      "model_module_version": "1.2.0",
      "model_name": "LayoutModel",
      "state": {
       "_model_module": "@jupyter-widgets/base",
       "_model_module_version": "1.2.0",
       "_model_name": "LayoutModel",
       "_view_count": null,
       "_view_module": "@jupyter-widgets/base",
       "_view_module_version": "1.2.0",
       "_view_name": "LayoutView",
       "align_content": null,
       "align_items": null,
       "align_self": null,
       "border": null,
       "bottom": null,
       "display": null,
       "flex": null,
       "flex_flow": null,
       "grid_area": null,
       "grid_auto_columns": null,
       "grid_auto_flow": null,
       "grid_auto_rows": null,
       "grid_column": null,
       "grid_gap": null,
       "grid_row": null,
       "grid_template_areas": null,
       "grid_template_columns": null,
       "grid_template_rows": null,
       "height": null,
       "justify_content": null,
       "justify_items": null,
       "left": null,
       "margin": null,
       "max_height": null,
       "max_width": null,
       "min_height": null,
       "min_width": null,
       "object_fit": null,
       "object_position": null,
       "order": null,
       "overflow": null,
       "overflow_x": null,
       "overflow_y": null,
       "padding": null,
       "right": null,
       "top": null,
       "visibility": null,
       "width": null
      }
     },
     "af010e4166da448aa6812cc16fea70e9": {
      "model_module": "@jupyter-widgets/controls",
      "model_module_version": "1.5.0",
      "model_name": "ProgressStyleModel",
      "state": {
       "_model_module": "@jupyter-widgets/controls",
       "_model_module_version": "1.5.0",
       "_model_name": "ProgressStyleModel",
       "_view_count": null,
       "_view_module": "@jupyter-widgets/base",
       "_view_module_version": "1.2.0",
       "_view_name": "StyleView",
       "bar_color": null,
       "description_width": ""
      }
     },
     "b58897451eea426791934fffaa0e3aa4": {
      "model_module": "@jupyter-widgets/controls",
      "model_module_version": "1.5.0",
      "model_name": "HTMLModel",
      "state": {
       "_dom_classes": [],
       "_model_module": "@jupyter-widgets/controls",
       "_model_module_version": "1.5.0",
       "_model_name": "HTMLModel",
       "_view_count": null,
       "_view_module": "@jupyter-widgets/controls",
       "_view_module_version": "1.5.0",
       "_view_name": "HTMLView",
       "description": "",
       "description_tooltip": null,
       "layout": "IPY_MODEL_8a62514e8d9c49c2afb44d9a8bb4e7ca",
       "placeholder": "​",
       "style": "IPY_MODEL_03bc1c26f73e43c688bf6130f78be5d1",
       "value": " 29.0/29.0 [00:00&lt;00:00, 1.22kB/s]"
      }
     },
     "c068e6bf356345a89481b40c09e06d4c": {
      "model_module": "@jupyter-widgets/controls",
      "model_module_version": "1.5.0",
      "model_name": "HTMLModel",
      "state": {
       "_dom_classes": [],
       "_model_module": "@jupyter-widgets/controls",
       "_model_module_version": "1.5.0",
       "_model_name": "HTMLModel",
       "_view_count": null,
       "_view_module": "@jupyter-widgets/controls",
       "_view_module_version": "1.5.0",
       "_view_name": "HTMLView",
       "description": "",
       "description_tooltip": null,
       "layout": "IPY_MODEL_6d3f15edac434e8298552abaf3a09959",
       "placeholder": "​",
       "style": "IPY_MODEL_934700fd373c4c1ca52f7fb5edce05e9",
       "value": " 213k/213k [00:00&lt;00:00, 1.91MB/s]"
      }
     },
     "d7cfaec8fef1455daabbc11d943faf1f": {
      "model_module": "@jupyter-widgets/controls",
      "model_module_version": "1.5.0",
      "model_name": "ProgressStyleModel",
      "state": {
       "_model_module": "@jupyter-widgets/controls",
       "_model_module_version": "1.5.0",
       "_model_name": "ProgressStyleModel",
       "_view_count": null,
       "_view_module": "@jupyter-widgets/base",
       "_view_module_version": "1.2.0",
       "_view_name": "StyleView",
       "bar_color": null,
       "description_width": ""
      }
     },
     "d9ce324a4f46440191ead3e763fb4db2": {
      "model_module": "@jupyter-widgets/controls",
      "model_module_version": "1.5.0",
      "model_name": "FloatProgressModel",
      "state": {
       "_dom_classes": [],
       "_model_module": "@jupyter-widgets/controls",
       "_model_module_version": "1.5.0",
       "_model_name": "FloatProgressModel",
       "_view_count": null,
       "_view_module": "@jupyter-widgets/controls",
       "_view_module_version": "1.5.0",
       "_view_name": "ProgressView",
       "bar_style": "success",
       "description": "",
       "description_tooltip": null,
       "layout": "IPY_MODEL_add3fe73e9ed4df5b6c54bcfe46e5464",
       "max": 570.0,
       "min": 0.0,
       "orientation": "horizontal",
       "style": "IPY_MODEL_af010e4166da448aa6812cc16fea70e9",
       "value": 570.0
      }
     },
     "dd48a9e31bd04cb090db6bd0b29ef223": {
      "model_module": "@jupyter-widgets/controls",
      "model_module_version": "1.5.0",
      "model_name": "DescriptionStyleModel",
      "state": {
       "_model_module": "@jupyter-widgets/controls",
       "_model_module_version": "1.5.0",
       "_model_name": "DescriptionStyleModel",
       "_view_count": null,
       "_view_module": "@jupyter-widgets/base",
       "_view_module_version": "1.2.0",
       "_view_name": "StyleView",
       "description_width": ""
      }
     },
     "e2860361f17c49d59b6733ac968b2431": {
      "model_module": "@jupyter-widgets/controls",
      "model_module_version": "1.5.0",
      "model_name": "HTMLModel",
      "state": {
       "_dom_classes": [],
       "_model_module": "@jupyter-widgets/controls",
       "_model_module_version": "1.5.0",
       "_model_name": "HTMLModel",
       "_view_count": null,
       "_view_module": "@jupyter-widgets/controls",
       "_view_module_version": "1.5.0",
       "_view_name": "HTMLView",
       "description": "",
       "description_tooltip": null,
       "layout": "IPY_MODEL_10c36eea6ad849519f8a04a74d4366ba",
       "placeholder": "​",
       "style": "IPY_MODEL_5a9625d5aafe43b5b4a00ddd21dad15d",
       "value": "Downloading (…)lve/main/config.json: 100%"
      }
     },
     "e9c5ec024aea450cb0cfa2f0fd97c516": {
      "model_module": "@jupyter-widgets/controls",
      "model_module_version": "1.5.0",
      "model_name": "FloatProgressModel",
      "state": {
       "_dom_classes": [],
       "_model_module": "@jupyter-widgets/controls",
       "_model_module_version": "1.5.0",
       "_model_name": "FloatProgressModel",
       "_view_count": null,
       "_view_module": "@jupyter-widgets/controls",
       "_view_module_version": "1.5.0",
       "_view_name": "ProgressView",
       "bar_style": "success",
       "description": "",
       "description_tooltip": null,
       "layout": "IPY_MODEL_21d20d5dfbe44db1b36aaaf14b883b3e",
       "max": 526681800.0,
       "min": 0.0,
       "orientation": "horizontal",
       "style": "IPY_MODEL_78c918d935af4fa2a168cf533fac6bba",
       "value": 526681800.0
      }
     },
     "ef23816ad8a44a34b4fcc4e1a3fb4e6a": {
      "model_module": "@jupyter-widgets/controls",
      "model_module_version": "1.5.0",
      "model_name": "HBoxModel",
      "state": {
       "_dom_classes": [],
       "_model_module": "@jupyter-widgets/controls",
       "_model_module_version": "1.5.0",
       "_model_name": "HBoxModel",
       "_view_count": null,
       "_view_module": "@jupyter-widgets/controls",
       "_view_module_version": "1.5.0",
       "_view_name": "HBoxView",
       "box_style": "",
       "children": [
        "IPY_MODEL_3ce7225f993f4a85a7ee248632e7715e",
        "IPY_MODEL_a0efdff8ccaa459aac2e1b69d32ad5a5",
        "IPY_MODEL_c068e6bf356345a89481b40c09e06d4c"
       ],
       "layout": "IPY_MODEL_a437f410d006428ab75ecee9dbfd838d"
      }
     },
     "f08a073e0e1c4ae3aa0ec90f26b84692": {
      "model_module": "@jupyter-widgets/controls",
      "model_module_version": "1.5.0",
      "model_name": "DescriptionStyleModel",
      "state": {
       "_model_module": "@jupyter-widgets/controls",
       "_model_module_version": "1.5.0",
       "_model_name": "DescriptionStyleModel",
       "_view_count": null,
       "_view_module": "@jupyter-widgets/base",
       "_view_module_version": "1.2.0",
       "_view_name": "StyleView",
       "description_width": ""
      }
     },
     "f8c8a29a9f2f402ba2a0784432cdb4cc": {
      "model_module": "@jupyter-widgets/controls",
      "model_module_version": "1.5.0",
      "model_name": "HTMLModel",
      "state": {
       "_dom_classes": [],
       "_model_module": "@jupyter-widgets/controls",
       "_model_module_version": "1.5.0",
       "_model_name": "HTMLModel",
       "_view_count": null,
       "_view_module": "@jupyter-widgets/controls",
       "_view_module_version": "1.5.0",
       "_view_name": "HTMLView",
       "description": "",
       "description_tooltip": null,
       "layout": "IPY_MODEL_14d8124a29f5488ea8a04fac0475211e",
       "placeholder": "​",
       "style": "IPY_MODEL_fd4df769583c49ce9d132649d68e1538",
       "value": "Downloading (…)&quot;tf_model.h5&quot;;: 100%"
      }
     },
     "f94bf16b25624635ab52ee4518949d8c": {
      "model_module": "@jupyter-widgets/base",
      "model_module_version": "1.2.0",
      "model_name": "LayoutModel",
      "state": {
       "_model_module": "@jupyter-widgets/base",
       "_model_module_version": "1.2.0",
       "_model_name": "LayoutModel",
       "_view_count": null,
       "_view_module": "@jupyter-widgets/base",
       "_view_module_version": "1.2.0",
       "_view_name": "LayoutView",
       "align_content": null,
       "align_items": null,
       "align_self": null,
       "border": null,
       "bottom": null,
       "display": null,
       "flex": null,
       "flex_flow": null,
       "grid_area": null,
       "grid_auto_columns": null,
       "grid_auto_flow": null,
       "grid_auto_rows": null,
       "grid_column": null,
       "grid_gap": null,
       "grid_row": null,
       "grid_template_areas": null,
       "grid_template_columns": null,
       "grid_template_rows": null,
       "height": null,
       "justify_content": null,
       "justify_items": null,
       "left": null,
       "margin": null,
       "max_height": null,
       "max_width": null,
       "min_height": null,
       "min_width": null,
       "object_fit": null,
       "object_position": null,
       "order": null,
       "overflow": null,
       "overflow_x": null,
       "overflow_y": null,
       "padding": null,
       "right": null,
       "top": null,
       "visibility": null,
       "width": null
      }
     },
     "fa2be176bbbd4a5c832bd5476afb6eb7": {
      "model_module": "@jupyter-widgets/controls",
      "model_module_version": "1.5.0",
      "model_name": "HTMLModel",
      "state": {
       "_dom_classes": [],
       "_model_module": "@jupyter-widgets/controls",
       "_model_module_version": "1.5.0",
       "_model_name": "HTMLModel",
       "_view_count": null,
       "_view_module": "@jupyter-widgets/controls",
       "_view_module_version": "1.5.0",
       "_view_name": "HTMLView",
       "description": "",
       "description_tooltip": null,
       "layout": "IPY_MODEL_6aacbc4f386f4797a119c624a25c59e2",
       "placeholder": "​",
       "style": "IPY_MODEL_dd48a9e31bd04cb090db6bd0b29ef223",
       "value": " 527M/527M [00:02&lt;00:00, 208MB/s]"
      }
     },
     "fa71a67ca4754740bca0e66871733488": {
      "model_module": "@jupyter-widgets/controls",
      "model_module_version": "1.5.0",
      "model_name": "ProgressStyleModel",
      "state": {
       "_model_module": "@jupyter-widgets/controls",
       "_model_module_version": "1.5.0",
       "_model_name": "ProgressStyleModel",
       "_view_count": null,
       "_view_module": "@jupyter-widgets/base",
       "_view_module_version": "1.2.0",
       "_view_name": "StyleView",
       "bar_color": null,
       "description_width": ""
      }
     },
     "fd4df769583c49ce9d132649d68e1538": {
      "model_module": "@jupyter-widgets/controls",
      "model_module_version": "1.5.0",
      "model_name": "DescriptionStyleModel",
      "state": {
       "_model_module": "@jupyter-widgets/controls",
       "_model_module_version": "1.5.0",
       "_model_name": "DescriptionStyleModel",
       "_view_count": null,
       "_view_module": "@jupyter-widgets/base",
       "_view_module_version": "1.2.0",
       "_view_name": "StyleView",
       "description_width": ""
      }
     }
    },
    "version_major": 2,
    "version_minor": 0
   }
  }
 },
 "nbformat": 4,
 "nbformat_minor": 5
}
